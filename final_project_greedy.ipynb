{
 "metadata": {
  "language_info": {
   "codemirror_mode": {
    "name": "ipython",
    "version": 3
   },
   "file_extension": ".py",
   "mimetype": "text/x-python",
   "name": "python",
   "nbconvert_exporter": "python",
   "pygments_lexer": "ipython3",
   "version": "3.8.3-final"
  },
  "orig_nbformat": 2,
  "kernelspec": {
   "name": "python3",
   "display_name": "Python 3"
  }
 },
 "nbformat": 4,
 "nbformat_minor": 2,
 "cells": [
  {
   "cell_type": "code",
   "execution_count": 12,
   "metadata": {},
   "outputs": [],
   "source": [
    "import pandas as pd \n",
    "import numpy as np \n",
    "from sklearn.metrics.pairwise import euclidean_distances\n",
    "import check_solution"
   ]
  },
  {
   "cell_type": "code",
   "execution_count": 2,
   "metadata": {},
   "outputs": [
    {
     "output_type": "stream",
     "name": "stdout",
     "text": [
      "        id  x_coordinate  y_coordinate  money  time (hr)\n0        0      2.851925      1.201712  29700   0.273403\n1        1      4.150372     -2.654334   6500   0.064040\n2        2     -1.494092     -1.230419  89400   0.127458\n3        3      1.271326     -0.088520  96100   1.315029\n4        4      2.471113     -0.592810  41100   0.164393\n...    ...           ...           ...    ...        ...\n9995  9995     -2.472127      4.787304   2100   0.494904\n9996  9996      1.034968     -4.321240  54900   0.492866\n9997  9997     -0.512720     -2.949173  32200   0.933033\n9998  9998      2.626841     -3.482923   5100   0.551312\n9999  9999     -3.992507      0.090112  21000   1.107299\n\n[10000 rows x 5 columns]\n"
     ]
    }
   ],
   "source": [
    "df = pd.read_csv('bank_data.csv')\n",
    "print(df)"
   ]
  },
  {
   "cell_type": "code",
   "execution_count": 15,
   "metadata": {
    "tags": []
   },
   "outputs": [
    {
     "output_type": "stream",
     "name": "stdout",
     "text": [
      "[3237, 2270, 3773, 5182, 2334, 2444, 8887, 1723, 5892, 5200, 2590, 5836, 5572, 4794, 3665, 4629, 6266, 5327, 1081, 2463, 6295, 5440, 8477, 9804, 5631, 5377, 5399, 1879, 8841, 1398, 5184, 4345, 9120, 757, 1860, 2344, 3025, 4293, 1844, 839, 4422, 3340, 3971, 1966, 359, 754, 6375, 7907, 670, 9469, 9275, 5381, 7769, 7625, 8909, 1397, 6156, 5126, 6987, 2458, 6478, 9290, 9928, 7649, 8169, 6281, 3136, 1599, 1193, 8849, 9908, 2729, 7764, 7701, 4036, 8503, 2827, 8407, 3919, 1997, 7531, 5356, 1447, 2028, 4362, 8829, 5474, 2643, 2521, 3239, 1676, 4742, 4983, 8288, 1976, 2243, 9779, 8125, 279, 6169, 2162, 8949, 6339, 3585, 4494, 5944, 2472, 70, 790, 1684, 6934, 488, 2226, 9880, 5563, 2639, 7494, 5971, 1455, 3605, 8375, 5719, 613, 6759, 781, 4234, 3186, 6216, 4757, 4605, 7877, 7689, 8355, 1757, 8908, 7265, 5622, 6317, 4610, 5627, 7801, 2, 58, 1372, 951, 9881, 7595, 7772, 507, 5298, 6022, 2626, 9640, 8846, 8231, 5166, 7665, 3089, 4807, 9228, 524, 9583, 3005, 7583, 444, 865, 3466, 3803, 8022, 6712, 2037, 1914, 5295, 7343, 8703, 299, 4762, 6468, 3193, 8525, 7560, 5933, 487, 2331, 4499, 8690, 6528, 4287, 9653, 6104, 5562, 3516, 4906, 7087, 517, 7074, 7258, 6740, 3026, 4696, 4789, 8436, 7064, 6097, 8287, 3798, 4987, 9195, 5610, 433, 6254, 557, 3914, 8562, 2190, 6535, 4492, 4627, 5155, 9736, 2656, 8206, 3297, 9401, 8966, 9049, 2741, 2346, 8469, 5296, 9378, 2928, 9241, 7544, 3613, 9546, 5135]\n"
     ]
    }
   ],
   "source": [
    "def greedy_algo(insert_the_df):\n",
    "    bank_list = []\n",
    "    speed = 30 \n",
    "    time_left = 24\n",
    "    score = 0 \n",
    "    current_pos = [[0,0]]\n",
    "\n",
    "    df = insert_the_df.rename(columns={\"x_coordinate\": 'x', \"y_coordinate\": 'y', \"time (hr)\": 'time'})\n",
    "    coord = df[['x', 'y']].to_numpy()\n",
    "\n",
    "    while time_left > 0:\n",
    "        dist = euclidean_distances(current_pos, coord)\n",
    "        df['dist'] = pd.DataFrame(np.reshape(dist, 10_000))\n",
    "        #print(df)\n",
    "        df['ratio'] = df.money / (df.dist / speed + df.time)\n",
    "        idx = df.ratio.idxmax()\n",
    "        #print(idx)\n",
    "        if time_left >= (df.dist[idx] / speed + df.time[idx]):\n",
    "            score += df.money[idx]\n",
    "            bank_list.append(idx)\n",
    "            df.money[idx] = 0\n",
    "            time_left -= (df.dist[idx] / speed + df.time[idx])\n",
    "            current_pos = [[df.x[idx], df.y[idx]]]\n",
    "        else:\n",
    "            break\n",
    "    bank_list.reverse()\n",
    "    return bank_list\n",
    "\n",
    "insert_the_df = pd.read_csv('bank_data.csv')\n",
    "print(greedy_algo(insert_the_df))\n",
    "\n",
    "bank_list = greedy_algo(insert_the_df)\n"
   ]
  },
  {
   "cell_type": "code",
   "execution_count": 17,
   "metadata": {},
   "outputs": [
    {
     "output_type": "stream",
     "name": "stdout",
     "text": [
      "Time Remaining: 0.18575782954423525\n"
     ]
    },
    {
     "output_type": "execute_result",
     "data": {
      "text/plain": [
       "14125900.0"
      ]
     },
     "metadata": {},
     "execution_count": 17
    }
   ],
   "source": [
    "import check_solution\n",
    "\n",
    "df = pd.read_csv('bank_data.csv')\n",
    "check_solution.check_solution(bank_list, df)"
   ]
  },
  {
   "cell_type": "code",
   "execution_count": null,
   "metadata": {},
   "outputs": [],
   "source": []
  }
 ]
}