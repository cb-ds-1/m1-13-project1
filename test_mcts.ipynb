{
 "metadata": {
  "language_info": {
   "codemirror_mode": {
    "name": "ipython",
    "version": 3
   },
   "file_extension": ".py",
   "mimetype": "text/x-python",
   "name": "python",
   "nbconvert_exporter": "python",
   "pygments_lexer": "ipython3",
   "version": "3.8.3-final"
  },
  "orig_nbformat": 2,
  "kernelspec": {
   "name": "python3",
   "display_name": "Python 3"
  }
 },
 "nbformat": 4,
 "nbformat_minor": 2,
 "cells": [
  {
   "cell_type": "code",
   "execution_count": 8,
   "metadata": {},
   "outputs": [
    {
     "output_type": "stream",
     "name": "stdout",
     "text": [
      "   id  x_coordinate  y_coordinate  money  time (hr)\n0   0      2.851925      1.201712  29700   0.273403\n1   1      4.150372     -2.654334   6500   0.064040\n2   2     -1.494092     -1.230419  89400   0.127458\n3   3      1.271326     -0.088520  96100   1.315029\n4   4      2.471113     -0.592810  41100   0.164393\n"
     ]
    }
   ],
   "source": [
    "import pandas as pd \n",
    "import numpy as np \n",
    "\n",
    "\n",
    "df = pd.read_csv(\"bank_data.csv\")\n",
    "print(df.head())\n",
    "\n"
   ]
  },
  {
   "cell_type": "code",
   "execution_count": null,
   "metadata": {},
   "outputs": [],
   "source": []
  },
  {
   "cell_type": "code",
   "execution_count": null,
   "metadata": {},
   "outputs": [],
   "source": [
    "from copy import deepcopy\n",
    "​\n",
    "def create_state_dict(visited, score, game_time):\n",
    "    \"\"\"\n",
    "    takes all elements of a state\n",
    "    returns a dictionary representation of that state\n",
    "    \"\"\"\n",
    "    return {\n",
    "            'visited' : visited,\n",
    "            'score' : score,\n",
    "            'game_time' : game_time,\n",
    "        }\n",
    "​\n",
    "def get_ids_from_data(banks):\n",
    "    \"\"\"\n",
    "    takes a list of visited bank information\n",
    "    returns a lit of bank ids\n",
    "    \"\"\"\n",
    "    return list(map(lambda x: x[id_index], banks))\n",
    "​\n",
    "class Board(object):\n",
    "    def start(self):\n",
    "        \"\"\"\n",
    "         Returns a representation of the starting state of a simulation(simulation are ran backwards)\n",
    "         \"\"\"\n",
    "        return create_state_dict([], 0, 0)\n",
    "​\n",
    "    def next_state(self, state, play):\n",
    "        \"\"\"\n",
    "        Takes the game state, and the move to be applied.\n",
    "        Returns the new game state.\n",
    "        \"\"\"\n",
    "        play = int(play)\n",
    "        # On start we are at escape point. all\n",
    "        if(len(state['visited']) == 0):\n",
    "            return create_state_dict([play], data[play][money_index], data[play][time_index] + times_to_escape[play])\n",
    "        \n",
    "        distance_to_play = distance.euclidean(data[state['visited'][-1]][1:3], data[play][1:3])\n",
    "        visited = [*state['visited'], play]\n",
    "        score = state['score'] + data[play][money_index]\n",
    "        game_time = state['game_time'] + data[play][time_index] + (distance_to_play / speed)\n",
    "​\n",
    "        return create_state_dict(visited, score, game_time)\n",
    "        \n",
    "​\n",
    "    def legal_plays(self, state_history):\n",
    "        \"\"\"\n",
    "        Takes a sequence of game states representing the full\n",
    "        game history, and returns the full list of moves that are legal plays\n",
    "        \"\"\"\n",
    "        # if game is in starting state all moves are legal\n",
    "        if(len(state_history) is 1):\n",
    "            return data\n",
    "        # get copy of the times to go to banks\n",
    "        \n",
    "        times_to_bank_copy = deepcopy(times_to_point[state_history[-1]['visited'][id_index]])\n",
    "​\n",
    "        last_state = state_history[-1]  \n",
    "        # any illegal moves becomes 0\n",
    "        times_to_bank_copy[last_state['game_time'] + data[:, time_index] + times_to_bank_copy > 24] = 0\n",
    "​\n",
    "        for visit in state_history[-1]['visited']:\n",
    "            times_to_bank_copy[visit] = 0\n",
    "​\n",
    "        # keep the indexes of legal moves        \n",
    "        legal_moves = np.nonzero(times_to_bank_copy)[0]\n",
    "​\n",
    "        non_zero_legal_moves = np.take(data, legal_moves, axis=0)\n",
    "​\n",
    "        \n",
    "        if(len(non_zero_legal_moves) > 0):\n",
    "            return non_zero_legal_moves\n",
    "        return []\n",
    "​\n",
    "    def winner(self, state_history):\n",
    "        \"\"\"\n",
    "        takes the state_history\n",
    "        returns a boolean indicating if the game is over\n",
    "        \"\"\"\n",
    "    \n",
    "        return len(self.legal_plays([state_history[-1]])) is 0"
   ]
  },
  {
   "cell_type": "code",
   "execution_count": null,
   "metadata": {},
   "outputs": [],
   "source": []
  }
 ]
}