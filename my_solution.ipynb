{
 "metadata": {
  "language_info": {
   "codemirror_mode": {
    "name": "ipython",
    "version": 3
   },
   "file_extension": ".py",
   "mimetype": "text/x-python",
   "name": "python",
   "nbconvert_exporter": "python",
   "pygments_lexer": "ipython3",
   "version": "3.8.3-final"
  },
  "orig_nbformat": 2,
  "kernelspec": {
   "name": "python3",
   "display_name": "Python 3"
  }
 },
 "nbformat": 4,
 "nbformat_minor": 2,
 "cells": [
  {
   "cell_type": "code",
   "execution_count": 5,
   "metadata": {},
   "outputs": [],
   "source": [
    "import pandas as pd\n",
    "import numpy as np\n",
    "from scipy.spatial import distance\n",
    "from random import choice\n",
    "\n",
    "df = pd.read_csv('bank_data.csv')\n",
    "df['ratio'] = df['money'] / df['time (hr)']\n",
    "\n",
    "data = df.to_numpy()\n",
    "data_by_ratio = data[data[:,2].argsort()]\n",
    "coords = df.filter(['x_coordinate', 'y_coordinate']).to_numpy()\n",
    "closests = np.argsort(distance.squareform(distance.pdist(coords)), axis=1)"
   ]
  },
  {
   "cell_type": "code",
   "execution_count": 6,
   "metadata": {},
   "outputs": [],
   "source": [
    "import numpy as np\n",
    "from random import choice\n",
    "from copy import deepcopy\n",
    "from scipy.spatial import distance\n",
    "\n",
    "id_index = 0\n",
    "x_cord_index = 1\n",
    "y_cord_index = 2\n",
    "money_index = 3\n",
    "time_index = 4\n",
    "ratio_index = 5\n",
    "speed = 30\n",
    "simulations_amout = 100\n",
    "simulation_depth = 100\n",
    "\n",
    "actions = ['random', money_index, ratio_index]\n",
    "\n",
    "class Game:\n",
    "    def __init__(self, restore=False, state={}):\n",
    "        self.data = data\n",
    "\n",
    "        if(restore):\n",
    "            local_state = deepcopy(state)\n",
    "            self.visited = local_state['visited']\n",
    "            self.score = local_state['score']\n",
    "            self.time_left = local_state['time_left']\n",
    "            self.time_to_exit = local_state['time_to_exit']\n",
    "        else:\n",
    "            self.visited = [choice(self.data)] \n",
    "            self.score = self.visited[0][money_index]\n",
    "            self.actions = ['random']\n",
    "            self.time_left = 24 - self.visited[0][time_index]\n",
    "            self.time_to_exit = distance.euclidean(self.visited[-1][x_cord_index:y_cord_index], [0,0]) / speed\n",
    "        self.visited_dict = {}\n",
    "\n",
    "        for visit in self.visited:\n",
    "            self.visited_dict[visit[id_index]] = True\n",
    "\n",
    "        self.game_ended = False\n",
    "\n",
    "    def get_state(self):\n",
    "        return {\n",
    "            'visited': self.visited,\n",
    "            'score': self.score,\n",
    "            'time_left': self.time_left,\n",
    "            'time_to_exit': self.time_to_exit\n",
    "        }\n",
    "\n",
    "    def get_visited_ids(self):\n",
    "        return list(map(lambda x: x[id_index], self.visited))\n",
    "\n",
    "    def play_move(self, move):\n",
    "        # don't let move when game is over\n",
    "        if (self.time_to_exit > self.time_left):\n",
    "            self.game_ended = True\n",
    "            return\n",
    "\n",
    "        next_move = move\n",
    "        distance_to_next = distance.euclidean(self.visited[-1][x_cord_index:y_cord_index], \n",
    "                            next_move[x_cord_index:y_cord_index])\n",
    "        self.visited.append(next_move)\n",
    "        self.visited_dict[next_move[id_index]] = True\n",
    "        # update the score\n",
    "        self.score = self.score + next_move[money_index]\n",
    "        self.time_left = self.time_left - next_move[time_index] - (distance_to_next / speed)\n",
    "        self.time_to_exit = distance.euclidean(self.visited[-1][x_cord_index:y_cord_index], [0,0]) / speed"
   ]
  },
  {
   "cell_type": "code",
   "execution_count": 7,
   "metadata": {},
   "outputs": [],
   "source": [
    "class Simulated_Game(Game):\n",
    "    def play_random_game(self):\n",
    "            while(self.time_to_exit < self.time_left):\n",
    "                self.play_move(self.choose_move_type())\n",
    "            self.visited = self.visited[:-1]\n",
    "            # game over \n",
    "            self.game_ended = True\n",
    "    \n",
    "    def choose_move_type(self):\n",
    "        move_type = choice(actions)\n",
    "        self.actions.append(move_type)\n",
    "        distances_from_next = closests[int(self.visited[-1][id_index])]\n",
    "        closest_values = [self.data[i] for i in distances_from_next[:simulation_depth] \n",
    "                            if self.data[i][id_index] not in self.visited_dict]\n",
    "\n",
    "        if (move_type == 'random'):\n",
    "            return choice(closest_values)\n",
    "        # return the highest value based on the current move type selected\n",
    "        return closest_values[np.argmax(closest_values, axis=0)[move_type]]\n",
    "\n",
    "# helpers\n",
    "def get_current_policy(ratio_score, random_score):\n",
    "    maximum = max(ratio_score, random_score)\n",
    "\n",
    "    if(maximum == ratio_score):\n",
    "        return ratio_index\n",
    "\n",
    "    if(maximum == random_score):\n",
    "        return 'random'"
   ]
  },
  {
   "cell_type": "code",
   "execution_count": 14,
   "metadata": {},
   "outputs": [
    {
     "output_type": "stream",
     "name": "stdout",
     "text": [
      "[7517.0, 1372.0, 3716.0, 406.0, 2.0, 3613.0, 4412.0, 4477.0, 2129.0, 3008.0, 9843.0, 7544.0, 6987.0, 4560.0, 8062.0, 9195.0, 6478.0, 1605.0, 7465.0, 9120.0, 5545.0, 7087.0, 4424.0, 3200.0, 9257.0, 538.0, 6281.0, 8169.0, 517.0, 9290.0, 7760.0, 6694.0, 296.0, 7265.0, 9320.0, 2819.0, 7064.0, 8478.0, 8436.0, 1380.0, 7963.0, 2827.0, 8407.0, 1941.0, 1447.0, 2679.0, 6019.0, 8908.0, 6097.0, 4231.0, 6152.0, 6653.0, 6180.0, 4056.0, 4036.0, 3026.0, 505.0, 4696.0]\n[7517.0, 1372.0, 3716.0, 406.0, 2.0, 3613.0, 4412.0, 4477.0, 2129.0, 3008.0, 9843.0, 7544.0, 6987.0, 4560.0, 8062.0, 9195.0, 6478.0, 1605.0, 7465.0, 9120.0, 5545.0, 7087.0, 4424.0, 3200.0, 9257.0, 538.0, 6281.0, 8169.0, 517.0, 9290.0, 7760.0, 6694.0, 296.0, 7265.0, 9320.0, 2819.0, 7064.0, 8478.0, 8436.0, 1380.0, 7963.0, 2827.0, 8407.0, 1941.0, 1447.0, 2679.0, 6019.0, 8908.0, 6097.0, 4231.0, 6152.0, 6653.0, 6180.0, 4056.0, 4036.0, 3026.0, 505.0, 4696.0] $4,097,500.00\n"
     ]
    }
   ],
   "source": [
    "def rob_simulator():\n",
    "    rob = Simulated_Game()\n",
    "    for i in range(10000):\n",
    "            temp_game = Simulated_Game()\n",
    "            temp_game.play_random_game()\n",
    "            if(temp_game.score > rob.score):\n",
    "                rob = temp_game\n",
    "    return rob\n",
    "\n",
    "\n",
    "g = rob_simulator()\n",
    "#result = list(g.get_visited_ids())\n",
    "#print(result)\n",
    "print(g.get_visited_ids(), \"${:,.2f}\".format(g.score))"
   ]
  },
  {
   "cell_type": "code",
   "execution_count": 15,
   "metadata": {},
   "outputs": [
    {
     "output_type": "error",
     "ename": "TypeError",
     "evalue": "Cannot index by location index with a non-integer key",
     "traceback": [
      "\u001b[1;31m---------------------------------------------------------------------------\u001b[0m",
      "\u001b[1;31mTypeError\u001b[0m                                 Traceback (most recent call last)",
      "\u001b[1;32m<ipython-input-15-4ad9186bbb11>\u001b[0m in \u001b[0;36m<module>\u001b[1;34m\u001b[0m\n\u001b[0;32m     45\u001b[0m     \u001b[1;32mreturn\u001b[0m \u001b[0mscore\u001b[0m\u001b[1;33m\u001b[0m\u001b[1;33m\u001b[0m\u001b[0m\n\u001b[0;32m     46\u001b[0m \u001b[1;33m\u001b[0m\u001b[0m\n\u001b[1;32m---> 47\u001b[1;33m \u001b[0mprint\u001b[0m\u001b[1;33m(\u001b[0m\u001b[0mcheck_solution\u001b[0m\u001b[1;33m(\u001b[0m\u001b[0mresult\u001b[0m\u001b[1;33m,\u001b[0m \u001b[0mdf\u001b[0m\u001b[1;33m,\u001b[0m \u001b[0mspeed\u001b[0m\u001b[1;33m=\u001b[0m\u001b[1;36m30\u001b[0m\u001b[1;33m)\u001b[0m\u001b[1;33m)\u001b[0m\u001b[1;33m\u001b[0m\u001b[1;33m\u001b[0m\u001b[0m\n\u001b[0m",
      "\u001b[1;32m<ipython-input-15-4ad9186bbb11>\u001b[0m in \u001b[0;36mcheck_solution\u001b[1;34m(travel_list, df, speed)\u001b[0m\n\u001b[0;32m     21\u001b[0m     \u001b[0mprev\u001b[0m \u001b[1;33m=\u001b[0m \u001b[0mtravel_list\u001b[0m\u001b[1;33m[\u001b[0m\u001b[1;36m0\u001b[0m\u001b[1;33m]\u001b[0m\u001b[1;33m\u001b[0m\u001b[1;33m\u001b[0m\u001b[0m\n\u001b[0;32m     22\u001b[0m     \u001b[1;32mfor\u001b[0m \u001b[0me\u001b[0m \u001b[1;32min\u001b[0m \u001b[0mtravel_list\u001b[0m\u001b[1;33m:\u001b[0m\u001b[1;33m\u001b[0m\u001b[1;33m\u001b[0m\u001b[0m\n\u001b[1;32m---> 23\u001b[1;33m         \u001b[0mrow\u001b[0m \u001b[1;33m=\u001b[0m \u001b[0mdf\u001b[0m\u001b[1;33m.\u001b[0m\u001b[0miloc\u001b[0m\u001b[1;33m[\u001b[0m\u001b[0me\u001b[0m\u001b[1;33m]\u001b[0m\u001b[1;33m\u001b[0m\u001b[1;33m\u001b[0m\u001b[0m\n\u001b[0m\u001b[0;32m     24\u001b[0m         \u001b[0mscore\u001b[0m \u001b[1;33m+=\u001b[0m \u001b[0mrow\u001b[0m\u001b[1;33m[\u001b[0m\u001b[1;34m'money'\u001b[0m\u001b[1;33m]\u001b[0m\u001b[1;33m\u001b[0m\u001b[1;33m\u001b[0m\u001b[0m\n\u001b[0;32m     25\u001b[0m         \u001b[0mt_remaining\u001b[0m \u001b[1;33m-=\u001b[0m \u001b[0mrow\u001b[0m\u001b[1;33m[\u001b[0m\u001b[1;34m'time (hr)'\u001b[0m\u001b[1;33m]\u001b[0m\u001b[1;33m\u001b[0m\u001b[1;33m\u001b[0m\u001b[0m\n",
      "\u001b[1;32m~\\anaconda3\\lib\\site-packages\\pandas\\core\\indexing.py\u001b[0m in \u001b[0;36m__getitem__\u001b[1;34m(self, key)\u001b[0m\n\u001b[0;32m   1766\u001b[0m \u001b[1;33m\u001b[0m\u001b[0m\n\u001b[0;32m   1767\u001b[0m             \u001b[0mmaybe_callable\u001b[0m \u001b[1;33m=\u001b[0m \u001b[0mcom\u001b[0m\u001b[1;33m.\u001b[0m\u001b[0mapply_if_callable\u001b[0m\u001b[1;33m(\u001b[0m\u001b[0mkey\u001b[0m\u001b[1;33m,\u001b[0m \u001b[0mself\u001b[0m\u001b[1;33m.\u001b[0m\u001b[0mobj\u001b[0m\u001b[1;33m)\u001b[0m\u001b[1;33m\u001b[0m\u001b[1;33m\u001b[0m\u001b[0m\n\u001b[1;32m-> 1768\u001b[1;33m             \u001b[1;32mreturn\u001b[0m \u001b[0mself\u001b[0m\u001b[1;33m.\u001b[0m\u001b[0m_getitem_axis\u001b[0m\u001b[1;33m(\u001b[0m\u001b[0mmaybe_callable\u001b[0m\u001b[1;33m,\u001b[0m \u001b[0maxis\u001b[0m\u001b[1;33m=\u001b[0m\u001b[0maxis\u001b[0m\u001b[1;33m)\u001b[0m\u001b[1;33m\u001b[0m\u001b[1;33m\u001b[0m\u001b[0m\n\u001b[0m\u001b[0;32m   1769\u001b[0m \u001b[1;33m\u001b[0m\u001b[0m\n\u001b[0;32m   1770\u001b[0m     \u001b[1;32mdef\u001b[0m \u001b[0m_is_scalar_access\u001b[0m\u001b[1;33m(\u001b[0m\u001b[0mself\u001b[0m\u001b[1;33m,\u001b[0m \u001b[0mkey\u001b[0m\u001b[1;33m:\u001b[0m \u001b[0mTuple\u001b[0m\u001b[1;33m)\u001b[0m\u001b[1;33m:\u001b[0m\u001b[1;33m\u001b[0m\u001b[1;33m\u001b[0m\u001b[0m\n",
      "\u001b[1;32m~\\anaconda3\\lib\\site-packages\\pandas\\core\\indexing.py\u001b[0m in \u001b[0;36m_getitem_axis\u001b[1;34m(self, key, axis)\u001b[0m\n\u001b[0;32m   2133\u001b[0m             \u001b[0mkey\u001b[0m \u001b[1;33m=\u001b[0m \u001b[0mitem_from_zerodim\u001b[0m\u001b[1;33m(\u001b[0m\u001b[0mkey\u001b[0m\u001b[1;33m)\u001b[0m\u001b[1;33m\u001b[0m\u001b[1;33m\u001b[0m\u001b[0m\n\u001b[0;32m   2134\u001b[0m             \u001b[1;32mif\u001b[0m \u001b[1;32mnot\u001b[0m \u001b[0mis_integer\u001b[0m\u001b[1;33m(\u001b[0m\u001b[0mkey\u001b[0m\u001b[1;33m)\u001b[0m\u001b[1;33m:\u001b[0m\u001b[1;33m\u001b[0m\u001b[1;33m\u001b[0m\u001b[0m\n\u001b[1;32m-> 2135\u001b[1;33m                 \u001b[1;32mraise\u001b[0m \u001b[0mTypeError\u001b[0m\u001b[1;33m(\u001b[0m\u001b[1;34m\"Cannot index by location index with a non-integer key\"\u001b[0m\u001b[1;33m)\u001b[0m\u001b[1;33m\u001b[0m\u001b[1;33m\u001b[0m\u001b[0m\n\u001b[0m\u001b[0;32m   2136\u001b[0m \u001b[1;33m\u001b[0m\u001b[0m\n\u001b[0;32m   2137\u001b[0m             \u001b[1;31m# validate the location\u001b[0m\u001b[1;33m\u001b[0m\u001b[1;33m\u001b[0m\u001b[1;33m\u001b[0m\u001b[0m\n",
      "\u001b[1;31mTypeError\u001b[0m: Cannot index by location index with a non-integer key"
     ]
    }
   ],
   "source": []
  }
 ]
}