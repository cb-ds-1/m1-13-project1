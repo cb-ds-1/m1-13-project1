{
 "metadata": {
  "language_info": {
   "codemirror_mode": {
    "name": "ipython",
    "version": 3
   },
   "file_extension": ".py",
   "mimetype": "text/x-python",
   "name": "python",
   "nbconvert_exporter": "python",
   "pygments_lexer": "ipython3",
   "version": "3.8.3-final"
  },
  "orig_nbformat": 2,
  "kernelspec": {
   "name": "python3",
   "display_name": "Python 3"
  }
 },
 "nbformat": 4,
 "nbformat_minor": 2,
 "cells": [
  {
   "cell_type": "code",
   "execution_count": 100,
   "metadata": {},
   "outputs": [],
   "source": [
    "import pandas as pd\n",
    "import numpy as np\n",
    "from scipy.spatial import distance\n",
    "from random import choice\n",
    "\n",
    "df = pd.read_csv('bank_data.csv')\n",
    "df = df.head(1000)\n",
    "# make a ratio calculation on each item\n",
    "df['ratio'] = df['money'] / df['time (hr)']\n",
    "ratio = df['ratio'].to_numpy()\n",
    "# output data to array\n",
    "data = df.to_numpy()\n",
    "\n",
    "# calculate time to travel between each location\n",
    "coords = df[df.columns.difference(['id', 'money', 'time (hr)', 'ratio'])].to_numpy()\n",
    "distances = distance.squareform(distance.pdist(coords))\n",
    "time_to_travel = (distances / 30)\n",
    "\n",
    "# create reward matrix for each state/action\n",
    "R = np.matrix(time_to_travel / ratio[:, None])\n",
    "\n",
    "# Q matrix\n",
    "Q = np.matrix(np.zeros([1000,1000]))\n",
    "\n",
    "# learning param\n",
    "gamma = 0.8"
   ]
  },
  {
   "cell_type": "code",
   "execution_count": 102,
   "metadata": {},
   "outputs": [
    {
     "output_type": "stream",
     "name": "stdout",
     "text": [
      "Trained Q matrix:\n[[ 0.          0.          0.         ...  0.          0.\n   0.        ]\n [ 0.          0.          0.         ...  0.          0.\n   0.        ]\n [ 0.          0.          0.         ...  0.          0.\n   0.        ]\n ...\n [ 0.          0.          0.         ...  0.          0.\n   0.        ]\n [ 0.          0.          0.         ...  0.          0.\n   0.        ]\n [ 0.         42.16894022  0.         ...  0.          0.\n   0.        ]]\n"
     ]
    }
   ],
   "source": [
    "# random initial state\n",
    "initial_state =  np.random.randint(1000)\n",
    "\n",
    "def available_actions(state):\n",
    "    current_state_row = R[state,]\n",
    "    av_act = np.where(current_state_row > 0)[1]\n",
    "    return av_act\n",
    "\n",
    "available_act = available_actions(initial_state) \n",
    "\n",
    "def sample_next_action(available_actions_range):\n",
    "    next_action = int(np.random.choice(available_act,1))\n",
    "    return next_action\n",
    "\n",
    "\n",
    "action = sample_next_action(available_act)\n",
    "\n",
    "def update(current_state, action, gamma):\n",
    "    \n",
    "    max_index = np.where(Q[action,] == np.max(Q[action,]))[1]\n",
    "\n",
    "    if max_index.shape[0] > 1:\n",
    "        max_index = int(np.random.choice(max_index, size = 1))\n",
    "    else:\n",
    "        max_index = int(max_index)\n",
    "    max_value = Q[action, max_index]\n",
    "    \n",
    "    # Q learning formula\n",
    "    Q[current_state, action] = R[current_state, action] + gamma * max_value\n",
    "\n",
    "# Update Q matrix\n",
    "update(initial_state,action,gamma)\n",
    "\n",
    "for i in range(15000):\n",
    "    current_state = np.random.randint(0, int(Q.shape[0]))\n",
    "    available_act = available_actions(current_state)\n",
    "    action = sample_next_action(available_act)\n",
    "    update(current_state,action,gamma)\n",
    "    \n",
    "# Normalize the \"trained\" Q matrix\n",
    "print(\"Trained Q matrix:\")\n",
    "print(Q/np.max(Q)*100)\n",
    "\n"
   ]
  },
  {
   "cell_type": "code",
   "execution_count": 106,
   "metadata": {},
   "outputs": [
    {
     "output_type": "stream",
     "name": "stdout",
     "text": [
      "Selected path:\n[998, 67, 308, 559, 434, 634, 436, 610, 439, 341, 634, 436, 610, 439, 341, 634, 436, 610, 439, 341]\n$213,200.00\n"
     ]
    }
   ],
   "source": [
    "high_score = 0\n",
    "high_steps = []\n",
    "for i in range(999):\n",
    "    current_state = i\n",
    "    steps = [current_state]\n",
    "    game_over = False\n",
    "    score = 0\n",
    "    time_left = 24\n",
    "    time_to_exit = distance.euclidean(data[steps[-1]][1:2], [0,0]) / 30\n",
    "\n",
    "    while game_over is False:\n",
    "\n",
    "        next_step_index = np.where(Q[current_state,] == np.max(Q[current_state,]))[1]\n",
    "        \n",
    "        if next_step_index.shape[0] > 1:\n",
    "            next_step_index = int(np.random.choice(next_step_index, size = 1))\n",
    "        else:\n",
    "            next_step_index = int(next_step_index)\n",
    "\n",
    "        distance_to_next = distance.euclidean(data[steps][-1][1:2], data[next_step_index][1:2])\n",
    "        score = score + data[next_step_index][3]\n",
    "        time_left = time_left - data[next_step_index][4] - (distance_to_next / 30)\n",
    "        time_to_exit = distance.euclidean(data[steps[-1]][1:2], [0,0]) / 30\n",
    "\n",
    "        steps.append(next_step_index)\n",
    "        current_state = next_step_index\n",
    "        if(time_to_exit > time_left):\n",
    "            game_over = True\n",
    "    if (score > high_score):\n",
    "        high_score = score\n",
    "        high_steps = steps\n",
    "\n",
    "# Print selected sequence of steps\n",
    "print(\"Selected path:\")\n",
    "print(steps)\n",
    "print(\"${:,.2f}\".format(score))"
   ]
  },
  {
   "cell_type": "code",
   "execution_count": null,
   "metadata": {},
   "outputs": [],
   "source": []
  }
 ]
}