{
 "metadata": {
  "language_info": {
   "codemirror_mode": {
    "name": "ipython",
    "version": 3
   },
   "file_extension": ".py",
   "mimetype": "text/x-python",
   "name": "python",
   "nbconvert_exporter": "python",
   "pygments_lexer": "ipython3",
   "version": "3.8.3-final"
  },
  "orig_nbformat": 2,
  "kernelspec": {
   "name": "python3",
   "display_name": "Python 3"
  }
 },
 "nbformat": 4,
 "nbformat_minor": 2,
 "cells": [
  {
   "cell_type": "code",
   "execution_count": 2,
   "metadata": {},
   "outputs": [],
   "source": [
    "import pandas as pd \n",
    "import numpy as np \n",
    "from random import choice \n",
    "from scipy.spatial import distance\n",
    "\n",
    "df = pd.read_csv('bank_data.csv')\n",
    "#df = df.head(1000)\n",
    "\n",
    "#print(df)\n",
    "#make ratio calculation on each item \n",
    "df['ratio'] = df['money'] / df['time (hr)']\n",
    "ratio = df['ratio'].to_numpy()\n",
    "\n",
    "\n",
    "#output data to array \n",
    "data = df.to_numpy()\n",
    "\n",
    "# calculate time to travel between each location\n",
    "\n",
    "coords = df.filter(['x_coordinate', 'y_coordinate']).to_numpy()\n",
    "dist = distance.squareform(distance.pdist(coords))\n",
    "time_to_travel = (dist / 30)\n",
    "\n",
    "\n",
    "# create reward matrix for each state/station \n",
    "\n",
    "R = np.matrix(time_to_travel / ratio[:, None])\n",
    "\n",
    "# Q table\n",
    "Q = np.matrix(np.zeros([10_000, 10_000]))\n",
    "\n",
    "# discount factor\n",
    "gamma = 0.8"
   ]
  },
  {
   "cell_type": "code",
   "execution_count": 3,
   "metadata": {
    "tags": []
   },
   "outputs": [
    {
     "output_type": "stream",
     "name": "stdout",
     "text": [
      "Trained Q matrix:\n",
      "[[0. 0. 0. ... 0. 0. 0.]\n",
      " [0. 0. 0. ... 0. 0. 0.]\n",
      " [0. 0. 0. ... 0. 0. 0.]\n",
      " ...\n",
      " [0. 0. 0. ... 0. 0. 0.]\n",
      " [0. 0. 0. ... 0. 0. 0.]\n",
      " [0. 0. 0. ... 0. 0. 0.]]\n"
     ]
    }
   ],
   "source": [
    "# Initial state. (Usually to be chosen at random)\n",
    "initial_state = 1 #np.random.randint(10000) #try with 0\n",
    "\n",
    "# This function returns all available actions in the state given as an argument\n",
    "def available_actions(state):\n",
    "    current_state_row = R[state, :]\n",
    "    av_act = np.where(current_state_row > 0)[1]\n",
    "    return av_act\n",
    "\n",
    "#get the available actions in the current state \n",
    "available_act = available_actions(initial_state)\n",
    "\n",
    "# This function choose at random which action to be performed \n",
    "# within the range of all the available action \n",
    "def sample_next_action(available_actions_range):\n",
    "    next_action = int(np.random.choice(available_act, 1))\n",
    "    return next_action\n",
    "\n",
    "#sample next action to be performed \n",
    "action = sample_next_action(available_act)\n",
    "\n",
    "# This function updates the Q matrix according to the path selected and the\n",
    "# Q learning algo\n",
    "def update(current_state, action, gamma):\n",
    "    max_index = np.where(Q[action,] == np.max(Q[action, ]))[1]\n",
    "\n",
    "    if max_index.shape[0] > 1:\n",
    "        max_index = int(np.random.choice(max_index, size=1))\n",
    "    else:\n",
    "        max_index = int(max_index)\n",
    "    max_value = Q[action, max_index]\n",
    "    #print(max_value)\n",
    "\n",
    "    # Q learning formula\n",
    "    Q[current_state, action] = R[current_state, action] + gamma * max_value\n",
    "\n",
    "#update Q matrix \n",
    "update(initial_state, action, gamma)\n",
    "\n",
    "#Training \n",
    "# Training over 20_000 iterations. (Re-iterate the process above)\n",
    "for i in range(60_000):\n",
    "    current_state = np.random.randint(0, int(Q.shape[0]))\n",
    "    available_act = available_actions(current_state)\n",
    "    action = sample_next_action(available_act)\n",
    "    update(current_state, action, gamma)\n",
    "\n",
    "\n",
    "# Normalize the trained Q matrix\n",
    "print (\"Trained Q matrix:\")\n",
    "print (Q / np.max(Q) * 100)\n"
   ]
  },
  {
   "cell_type": "code",
   "execution_count": 4,
   "metadata": {},
   "outputs": [
    {
     "output_type": "stream",
     "name": "stdout",
     "text": [
      "Selected path:\n[9999, 7560, 8689, 1564, 6309, 3261, 7628, 4643, 1999, 5351, 4024, 2144, 5103, 7730, 2024, 7995, 6345, 4506, 1615, 8104, 6865, 4842]\n$305,000.00\n"
     ]
    }
   ],
   "source": [
    "high_score = 0\n",
    "high_steps = []\n",
    "for i in range(10000):\n",
    "    current_state = i\n",
    "    steps = [current_state]\n",
    "    game_over = False\n",
    "    score = 0\n",
    "    time_left = 24\n",
    "    time_to_exit = distance.euclidean(data[steps[-1]][1:2], [0,0]) / 30\n",
    "\n",
    "    while game_over is False:\n",
    "\n",
    "        next_step_index = np.where(Q[current_state,] == np.max(Q[current_state,]))[1]\n",
    "        \n",
    "        if next_step_index.shape[0] > 1:\n",
    "            next_step_index = int(np.random.choice(next_step_index, size = 1))\n",
    "        else:\n",
    "            next_step_index = int(next_step_index)\n",
    "\n",
    "        distance_to_next = distance.euclidean(data[steps][-1][1:2], data[next_step_index][1:2])\n",
    "        score = score + data[next_step_index][3]\n",
    "        time_left = time_left - data[next_step_index][4] - (distance_to_next / 30)\n",
    "        time_to_exit = distance.euclidean(data[steps[-1]][1:2], [0,0]) / 30\n",
    "\n",
    "        steps.append(next_step_index)\n",
    "        current_state = next_step_index\n",
    "        if(time_to_exit > time_left):\n",
    "            game_over = True\n",
    "    if (score > high_score):\n",
    "        high_score = score\n",
    "        high_steps = steps\n",
    "\n",
    "# Print selected sequence of steps\n",
    "print(\"Selected path:\")\n",
    "print(steps)\n",
    "print(\"${:,.2f}\".format(score))\n",
    "\n"
   ]
  }
 ]
}