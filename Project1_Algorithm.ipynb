{
 "cells": [
  {
   "cell_type": "markdown",
   "metadata": {},
   "source": [
    "<h1>Project 1</h1>\n",
    "<h2>The bank algorithm</h2>"
   ]
  },
  {
   "cell_type": "code",
   "execution_count": 1,
   "metadata": {},
   "outputs": [],
   "source": [
    "import numpy as np\n",
    "import pandas as pd\n",
    "import matplotlib.pyplot as plt\n",
    "import networkx as nx\n",
    "import pydot\n",
    "import uuid \n",
    "from itertools import combinations\n",
    "from itertools import permutations\n"
   ]
  },
  {
   "cell_type": "markdown",
   "metadata": {},
   "source": [
    "<h2> Check Solution </h2>"
   ]
  },
  {
   "cell_type": "code",
   "execution_count": 2,
   "metadata": {},
   "outputs": [],
   "source": [
    "#check solution\n",
    "import math\n",
    "\n",
    "def distance(x1, y1, x2, y2):\n",
    "    return math.hypot(x2 - x1, y2 - y1)\n",
    "\n",
    "def check_solution(travel_list, df, speed=30.):\n",
    "    \"\"\"\n",
    "    Check a bank robber algorithm solution\n",
    "    \n",
    "    input:\n",
    "    ------\n",
    "    travel_list: a list of integers\n",
    "        Your solution to the bank robber problem\n",
    "        Bank IDs are row indeces into the df passed\n",
    "    df: pd.DataFrame\n",
    "        The algorithm input formatted dataframe \n",
    "        (id,x_coordinate,y_coordinate,money,time (hr))\n",
    "    speed: float\n",
    "        The km/h speed of travel\n",
    "    \"\"\"\n",
    "    t_remaining = 24.\n",
    "    score = 0.\n",
    "    assert len(travel_list) == len(set(travel_list)), (\n",
    "        \"Your travel list must have unique IDs!\"\n",
    "    )\n",
    "    prev = travel_list[0]\n",
    "    for e in travel_list:\n",
    "        row = df.iloc[e]\n",
    "        score += row['money']\n",
    "        t_remaining -= row['time (hr)']\n",
    "        dist = distance(\n",
    "            row['x_coordinate'], row['y_coordinate'],\n",
    "            df.iloc[prev]['x_coordinate'],\n",
    "            df.iloc[prev]['y_coordinate'],\n",
    "        )\n",
    "        t_remaining -= dist / speed\n",
    "        prev = e\n",
    "    assert t_remaining >= 0, (\n",
    "        f\"Used more than 24h! Time left: {t_remaining}\"\n",
    "    )\n",
    "    # still gotta get to (0, 0)\n",
    "    dist = distance(row['x_coordinate'],row['y_coordinate'],0,0)\n",
    "    final_t = t_remaining - (dist / speed)\n",
    "    assert final_t >= 0, (\n",
    "        f\"Not enough time to get to helicopter!\\n\"\n",
    "        f\"Time left after last bank: {t_remaining}\\n\"\n",
    "        f\"Distance to (0,0) helipad: {dist}\\n\"\n",
    "    )\n",
    "    print(f\"Time Remaining: {final_t}\")\n",
    "    return score"
   ]
  },
  {
   "cell_type": "markdown",
   "metadata": {},
   "source": [
    "<h2> Solution </h2>\n",
    "<h3> Greedy Algorithm</h3>"
   ]
  },
  {
   "cell_type": "code",
   "execution_count": 3,
   "metadata": {},
   "outputs": [],
   "source": [
    "SPEED = 30 #km/hr"
   ]
  },
  {
   "cell_type": "code",
   "execution_count": 4,
   "metadata": {},
   "outputs": [],
   "source": [
    "df_original = pd.read_csv('bank_data.csv')"
   ]
  },
  {
   "cell_type": "code",
   "execution_count": 5,
   "metadata": {},
   "outputs": [],
   "source": [
    "df0 = df_original.copy()\n",
    "df0['money/time'] = df0['money']/df0['time (hr)']\n"
   ]
  },
  {
   "cell_type": "code",
   "execution_count": 6,
   "metadata": {},
   "outputs": [],
   "source": [
    "df0 = df0.sort_values('money/time', ascending=False)\n",
    "df_temp1 = pd.DataFrame({'id': [-1], 'x_coordinate':[0], 'y_coordinate':[0], 'money':[0], 'time (hr)':[0]})\n",
    "df0 = df_temp1.append(df0).reset_index(drop=True)\n",
    "df0['cum_sum_money'] = df0['money'].cumsum()\n",
    "df0['cum_sum_time'] = df0['time (hr)'].cumsum()\n",
    "df0 = df0[df0['cum_sum_time'] <= 24]\n",
    "df0=df0.set_index('id')\n",
    "possible_banks = df0.index"
   ]
  },
  {
   "cell_type": "code",
   "execution_count": 7,
   "metadata": {},
   "outputs": [],
   "source": [
    "cbns = list(combinations(possible_banks,2))"
   ]
  },
  {
   "cell_type": "code",
   "execution_count": 8,
   "metadata": {},
   "outputs": [],
   "source": [
    "d_cbns = {'combinations': cbns}\n",
    "df_cbns = pd.DataFrame(data = d_cbns)\n",
    "df_cbns['b1'] = df_cbns['combinations'].map(lambda x: x[0])\n",
    "df_cbns['b2'] = df_cbns['combinations'].map(lambda x: x[1])\n",
    "df_cbns = df_cbns.drop('combinations', axis=1)\n",
    "df_temp2 = pd.DataFrame({'b1': df_cbns['b2'],'b2': df_cbns['b1'] })\n",
    "df_cbns = df_cbns.append(df_temp2)\n",
    "df_cbns['b_id'] = df_cbns['b1'].astype(str)+'_'+df_cbns['b2'].astype(str)\n",
    "df_cbns = df_cbns.reset_index(drop=True)"
   ]
  },
  {
   "cell_type": "code",
   "execution_count": 9,
   "metadata": {},
   "outputs": [],
   "source": [
    "df_cbns['x_coordinate1'] = df_cbns['b1'].map(df0['x_coordinate']) #Km\n",
    "df_cbns['y_coordinate1'] = df_cbns['b1'].map(df0['y_coordinate']) #Km\n",
    "df_cbns['x_coordinate2'] = df_cbns['b2'].map(df0['x_coordinate']) #Km\n",
    "df_cbns['y_coordinate2'] = df_cbns['b2'].map(df0['y_coordinate']) #Km\n",
    "df_cbns['distance'] =  np.sqrt((df_cbns['x_coordinate2']-df_cbns['x_coordinate1'])**2 + (df_cbns['y_coordinate2']-df_cbns['y_coordinate1'])**2) #Km\n",
    "df_cbns['travel_time'] = df_cbns['distance']/SPEED #Hr\n",
    "df_cbns['robbing_time2'] = df_cbns['b2'].map(df0['time (hr)']) #hr\n",
    "df_cbns['total_time2'] = df_cbns['travel_time']+df_cbns['robbing_time2'] #Hr\n",
    "df_cbns['money2'] = df_cbns['b2'].map(df0['money']) #$\n",
    "df_cbns['money2/total_time2'] = df_cbns['money2']/df_cbns['total_time2'] #$/hr\n",
    "\n"
   ]
  },
  {
   "cell_type": "markdown",
   "metadata": {},
   "source": [
    "<h2>Solution which generates the most money</h2>\n",
    "<h3>1- Greedy algorithm which considers travelling to the next bank which is closest in term of travelling time</h3>\n"
   ]
  },
  {
   "cell_type": "code",
   "execution_count": 10,
   "metadata": {},
   "outputs": [],
   "source": [
    "def banks_3(data):\n",
    "    '''\n",
    "    Greedy Algorithm\n",
    "    Function which takes as input a dataframe which contains data on the most promising banks to steal in terms of money \n",
    "    over time. This particular algorithm starts at (0,0) and selects the next closest banks among the most promising banks.\n",
    "\n",
    "    Input :\n",
    "    data: dataframe which contains the most promising banks to steal\n",
    "    '''\n",
    "    \n",
    "    df = data.copy()\n",
    "    time = 0\n",
    "    money = 0\n",
    "    current_bank = -1\n",
    "    df = df[df['b2']!=current_bank]\n",
    "    banks = []\n",
    "    while (time <= 24):\n",
    "        df_temp = df[df['b1']==current_bank]\n",
    "        min_time = np.min(df_temp['travel_time'])\n",
    "        next_bank = df_temp[df_temp['travel_time']==min_time]['b2'].values[0]\n",
    "        time += df_temp[df_temp['travel_time']==min_time]['total_time2'].values[0]       \n",
    "        df = df[df['b2']!=next_bank]\n",
    "        current_bank = next_bank\n",
    "        \n",
    "        if time<=24:\n",
    "            banks.append(next_bank)\n",
    "    return banks[::-1]"
   ]
  },
  {
   "cell_type": "code",
   "execution_count": 11,
   "metadata": {},
   "outputs": [
    {
     "name": "stdout",
     "output_type": "stream",
     "text": [
      "Time Remaining: 0.17083449639037573\n"
     ]
    },
    {
     "data": {
      "text/plain": [
       "14234800.0"
      ]
     },
     "execution_count": 11,
     "metadata": {},
     "output_type": "execute_result"
    }
   ],
   "source": [
    "travel_list3 = banks_3(df_cbns)\n",
    "check_solution(travel_list3, df_original, speed=30.) "
   ]
  },
  {
   "cell_type": "markdown",
   "metadata": {
    "scrolled": true
   },
   "source": [
    "<h2>Solutions which generate less money</h2>\n",
    "<h3>1- Greedy algorithm which condsiders travelling to next bank with greatest ratio of money/time</h3>\n",
    "<h3>2- Greedy algorithm which includes a common nearest banks to the current bank and to the next most promising bank</h3>"
   ]
  },
  {
   "cell_type": "code",
   "execution_count": 12,
   "metadata": {},
   "outputs": [],
   "source": [
    "def banks_1(data):\n",
    "    '''\n",
    "    Greedy Algorithm\n",
    "    Function which takes as input a dataframe which contains data on the most promising banks to steal in terms of money \n",
    "    over time. This particular algorithm starts at (0,0) and travels to the next bank that has the greatest ratio of money\n",
    "    over time.\n",
    "\n",
    "    Input :\n",
    "    data: dataframe which contains the most promising banks to steal\n",
    "    '''\n",
    "    \n",
    "    df = data.copy()\n",
    "    time = 0\n",
    "    money = 0\n",
    "    current_bank = -1\n",
    "    banks = []\n",
    "    while (time <= 24):\n",
    "        df_temp = df[df['b1']==current_bank]\n",
    "        max_money_time=df_temp['money2/total_time2'].max()\n",
    "        next_bank = df_temp[df_temp['money2/total_time2']==max_money_time]['b2'].values[0]\n",
    "        time += df_temp[df_temp['money2/total_time2']==max_money_time]['total_time2'].values[0]\n",
    "        df = df[df['b2']!=next_bank]\n",
    "        current_bank = next_bank\n",
    "        if time<=24:\n",
    "            banks.append(next_bank)\n",
    "    return banks[::-1]\n",
    "        \n",
    "        "
   ]
  },
  {
   "cell_type": "code",
   "execution_count": 13,
   "metadata": {},
   "outputs": [
    {
     "name": "stdout",
     "output_type": "stream",
     "text": [
      "Time Remaining: 0.029078042295429776\n"
     ]
    },
    {
     "data": {
      "text/plain": [
       "14204100.0"
      ]
     },
     "execution_count": 13,
     "metadata": {},
     "output_type": "execute_result"
    }
   ],
   "source": [
    "#Test\n",
    "travel_list1 = banks_1(df_cbns)\n",
    "check_solution(travel_list1, df_original, speed=30.) "
   ]
  },
  {
   "cell_type": "code",
   "execution_count": 14,
   "metadata": {},
   "outputs": [],
   "source": [
    "def banks_1_1(data):\n",
    "    '''\n",
    "    Greedy algorithm which was modified to include a common closest bank to the current bank and to the next most promising\n",
    "    bank.\n",
    "    '''\n",
    "    \n",
    "    df = data.copy()\n",
    "    time = 0\n",
    "    money = 0\n",
    "    current_bank = -1\n",
    "    banks = []\n",
    "    while (time <= 24):\n",
    "        df_temp = df[df['b1']==current_bank]\n",
    "        max_money_time=df_temp['money2/total_time2'].max()\n",
    "        next_bank = df_temp[df_temp['money2/total_time2']==max_money_time]['b2'].values[0]\n",
    "        \n",
    "        #Common nearest neighbor to the current bank and next promisiing bank\n",
    "        nearest_b1 = df_temp.sort_values('money2/total_time2', ascending= False)\n",
    "        nearest_b1 = nearest_b1[nearest_b1['b2']!=next_bank][0:2]['b2']\n",
    "        nearest_b2 = df[df['b1']==next_bank].sort_values('money2/total_time2', ascending= False)\n",
    "        nearest_b2 = nearest_b2[nearest_b2['b2']!=current_bank][0:2]['b2']\n",
    "        common_neighbors = list(set(nearest_b1).intersection(set(nearest_b2)))\n",
    "        \n",
    "        if len(common_neighbors)>0:\n",
    "            common_neighbor = common_neighbors.pop(0)\n",
    "            time += df_temp[df_temp['b2']==common_neighbor]['total_time2'].values[0]\n",
    "            if time<=24:\n",
    "                banks.append(common_neighbor)\n",
    "                df = df[(df['b2']!=common_neighbor)]\n",
    "            time += df[(df['b1']==common_neighbor) & (df['b2']==next_bank)]['total_time2'].values[0]\n",
    "            if time<=24:\n",
    "                banks.append(next_bank)\n",
    "                df = df[df['b2']!=next_bank]   \n",
    "        else:\n",
    "            time += df_temp[df_temp['money2/total_time2']==max_money_time]['total_time2'].values[0]\n",
    "            df = df[df['b2']!=next_bank]\n",
    "            if time<=24:\n",
    "                banks.append(next_bank)\n",
    "        current_bank = next_bank\n",
    "    return banks\n",
    "        "
   ]
  },
  {
   "cell_type": "code",
   "execution_count": 15,
   "metadata": {},
   "outputs": [
    {
     "name": "stdout",
     "output_type": "stream",
     "text": [
      "Time Remaining: 0.14607078677223945\n"
     ]
    },
    {
     "data": {
      "text/plain": [
       "12731200.0"
      ]
     },
     "execution_count": 15,
     "metadata": {},
     "output_type": "execute_result"
    }
   ],
   "source": [
    "travel_list1_1 = banks_1_1(df_cbns)\n",
    "check_solution(travel_list1_1[::-1], df_original, speed=30.) "
   ]
  },
  {
   "cell_type": "markdown",
   "metadata": {},
   "source": [
    "<h2>Solution which takes more than 3 minutes to run but which is able to find a sequence of banks that generates more money within 24 hours</h2>\n",
    "<h3>1-Greedy algorithm which loops through a list of best possible banks as a starting point and compares various  </h3>"
   ]
  },
  {
   "cell_type": "code",
   "execution_count": 16,
   "metadata": {},
   "outputs": [],
   "source": [
    "# def banks_2(data, banks_list, df_initial):\n",
    "#     data = data[data['b2']!=-1]\n",
    "#     max_money_s= 0\n",
    "#     best_banks = None\n",
    "#     i=0\n",
    "#     for initial_bank in banks_list:\n",
    "#         current_bank = initial_bank\n",
    "#         banks = []\n",
    "#         time = 0\n",
    "#         df = data.copy()\n",
    "        \n",
    "#         while (time <= 24):\n",
    "#             df_temp = df[df['b1']==current_bank]\n",
    "#             min_time= np.min(df_temp['travel_time'])\n",
    "#             next_bank = df_temp[df_temp['travel_time']==min_time]['b2'].values[0]\n",
    "#             time += df_temp[df_temp['travel_time']==min_time]['total_time2'].values[0]\n",
    "#             time_remaining = 24-time\n",
    "#             time_left_to_escape = df_cbns[(df_cbns['b1']== next_bank) & (df_cbns['b2']==-1)]['travel_time'].values[0]\n",
    "#             df = df[df['b2']!=next_bank]\n",
    "#             current_bank = next_bank\n",
    "#             #Verify if time is less than 24 hours and remaining time is sufficient to escape to helipad\n",
    "#             if (time<=24) and (time_left_to_escape<=time_remaining):\n",
    "#                 banks.append(next_bank)\n",
    "                \n",
    "#         total_money_s = df_initial[df_initial.index.isin(banks)]['money'].sum()\n",
    "#         if total_money_s > max_money_s:\n",
    "#             max_money_s = total_money_s\n",
    "#             best_banks = banks\n",
    "#         i+=1\n",
    "#     return best_banks, max_money_s\n",
    "        \n",
    "\n"
   ]
  },
  {
   "cell_type": "code",
   "execution_count": 17,
   "metadata": {},
   "outputs": [
    {
     "name": "stdout",
     "output_type": "stream",
     "text": [
      "Time Remaining: 0.022152127686968587\n"
     ]
    },
    {
     "data": {
      "text/plain": [
       "14439100.0"
      ]
     },
     "execution_count": 17,
     "metadata": {},
     "output_type": "execute_result"
    }
   ],
   "source": [
    "travel_list2, money_s = banks_2(df_cbns, possible_banks, df_original)\n",
    "check_solution(travel_list2, df_original, speed=30.) "
   ]
  },
  {
   "cell_type": "markdown",
   "metadata": {},
   "source": [
    "<h2>Work in progress</h2>\n",
    "<h3>Solution consists of creating a tree structure in networkx which essentially selects at the current bank the next n possible banks and makes use of the built-in algorithms of the networkx package to find the total amount of money for each of the branches of the tree (i.e. all possible sequences of banks).</h3>\n",
    "\n",
    "The current problems are the following:\n",
    "- The code can generate a tree-like structure in networkx when variable \"time\" in function called \"create_tree_structure\"  is less than an 1 hour. Then a problem occurs due maybe to stack overflow. A more efficient problem would need to be developed. \n",
    "- Need to convert unique ids back to bank ids\n",
    "- Need to return the root_node_uuid\n"
   ]
  },
  {
   "cell_type": "code",
   "execution_count": 18,
   "metadata": {},
   "outputs": [],
   "source": [
    "def find_next_candidates(n, current_location_id, data):\n",
    "    '''\n",
    "    Function which returns the n next candidates which have the greatest money/time ratio which are closest to their\n",
    "    current location. If there are no other candidates candidates within the radius returns the n next closest candidates \n",
    "    outside of the radius.\n",
    "    \n",
    "    Input:\n",
    "    n: number of candidates \n",
    "    current_location_id = id of current location\n",
    "    data: dataframe with data on the best candidates in the entire space\n",
    "    \n",
    "    '''\n",
    "    cur_loc_id = current_location_id\n",
    "    df = data.copy()\n",
    "    dft = df[df['b1']==cur_loc_id] \n",
    "    dft = dft.sort_values('distance')\n",
    "    dft = dft[:n]\n",
    "    return dft\n",
    "\n",
    "next_candidates = find_next_candidates(5,-1, df_cbns)\n",
    "\n",
    "\n",
    "    "
   ]
  },
  {
   "cell_type": "code",
   "execution_count": 19,
   "metadata": {
    "scrolled": true
   },
   "outputs": [
    {
     "name": "stdout",
     "output_type": "stream",
     "text": [
      "99b9ee1e-69a0-4284-9ab1-cca84e1fafec\n"
     ]
    },
    {
     "name": "stderr",
     "output_type": "stream",
     "text": [
      "C:\\Users\\education\\anaconda3\\lib\\site-packages\\networkx\\drawing\\layout.py:950: FutureWarning: arrays to stack must be passed as a \"sequence\" type such as list or tuple. Support for non-sequence iterables such as generators is deprecated as of NumPy 1.16 and will raise an error in the future.\n",
      "  pos = np.row_stack((pos[x] for x in node_list))\n"
     ]
    },
    {
     "data": {
      "text/plain": [
       "True"
      ]
     },
     "execution_count": 19,
     "metadata": {},
     "output_type": "execute_result"
    },
    {
     "data": {
      "image/png": "[encoded data removed]",
      "text/plain": [
       "<Figure size 432x288 with 1 Axes>"
      ]
     },
     "metadata": {},
     "output_type": "display_data"
    }
   ],
   "source": [
    "\n",
    "def create_tree_structure(data,n):\n",
    "    '''\n",
    "    Function which create a tree-like structure in networkx so that the builtin function can be used to find the \n",
    "    total amount of money for each potential sequence of banks.\n",
    "    \n",
    "    Input :\n",
    "    data = dataframe with the best possible banks in the entire space\n",
    "    n = number of next best possible bank to consider at the current bank\n",
    "    '''\n",
    "    initial_loc_id = -1 #initial_location_id at (0,0) | id -1 corresponds to location (0,0)\n",
    "    root_initial = True\n",
    "    G = nx.DiGraph()\n",
    "    df = data.copy()\n",
    "    initial_time = 0\n",
    "    \n",
    "    def tree_recursion(n, root, cur_loc_id, cur_uuid, time, data_tree, graph):\n",
    "        df = data_tree.copy()\n",
    "        #Base case\n",
    "        if time>=0.5:\n",
    "#             print(f'reached {time} hours')\n",
    "            return time\n",
    "\n",
    "        #Recursive case\n",
    "    \n",
    "        #If the current location is the inital point\n",
    "        if root == True:\n",
    "            initial_money = df[df['b2']==cur_loc_id]['money2'][:1].values[0]\n",
    "            root_node_uuid = str(uuid.uuid4())\n",
    "            print(root_node_uuid)\n",
    "            graph.add_node(root_node_uuid, money = initial_money)\n",
    "            df = df[df['b2']!=-1]\n",
    "        \n",
    "        #Find the n next best possible banks\n",
    "        df_cnds = find_next_candidates(n, cur_loc_id, df)\n",
    "        next_candidates_id = list(df_cnds['b_id'])\n",
    "        next_candidates_b2 = list(df_cnds['b2'])\n",
    "\n",
    "        for i, nxt_cnd_id in enumerate(next_candidates_id):\n",
    "            #Store in variable money at the next bank and total time (Time to traval + time at the bank)\n",
    "            money = df_cnds[df_cnds['b_id'] == nxt_cnd_id]['money2'].values[0]\n",
    "            total_time = df_cnds[df_cnds['b_id'] == nxt_cnd_id]['total_time2'].values[0]\n",
    "            \n",
    "            #Create a unique id for the bank to store in networkx\n",
    "            next_cdn_uuid = str(uuid.uuid4())\n",
    "            if root == True:\n",
    "                cur_cdn_uuid = root_node_uuid\n",
    "            else:\n",
    "                cur_cdn_uuid = cur_uuid\n",
    "            #Store the node and edges in graph\n",
    "            graph.add_node(cur_cdn_uuid, money = money)\n",
    "            graph.add_edge(cur_cdn_uuid, next_cdn_uuid, money = money,time = total_time)\n",
    "            \n",
    "            #Update current candidate uuid to be the next_cdn_uuid\n",
    "            cur_cdn_uuid = next_cdn_uuid\n",
    "            \n",
    "            #Update the time so that it equals travelling time and time spent at the bank\n",
    "            time += total_time\n",
    "            \n",
    "            #Update the dataframe in order to remove the possibility of coming back to the same bank\n",
    "            dft = df[df['b2']!=next_candidates_b2[i]]\n",
    "            \n",
    "            #Call recursive function with updated variables\n",
    "            tree_recursion(n, False, next_candidates_b2[i], cur_cdn_uuid, time, dft, graph)\n",
    "\n",
    "            \n",
    "    tree_recursion(n, root_initial, initial_loc_id,str(initial_loc_id), initial_time, df, G)\n",
    "    return G\n",
    "#     nx.draw(G, with_labels = True)\n",
    "#     print(G.nodes.data())\n",
    "\n",
    "    \n",
    "\n",
    "tree = create_tree_structure(df_cbns, 2) \n",
    "nx.draw_planar(tree)\n",
    "nx.is_tree(tree)\n",
    "\n"
   ]
  },
  {
   "cell_type": "code",
   "execution_count": 22,
   "metadata": {},
   "outputs": [
    {
     "name": "stdout",
     "output_type": "stream",
     "text": [
      "0.5051886467426987 412000\n",
      "['99b9ee1e-69a0-4284-9ab1-cca84e1fafec', '5c5298eb-1977-4295-82b6-6c738ae174b5', 'e6e146f9-cbb6-4cba-9a22-fab9b1a42e23', 'ee841eb7-6a27-4d60-806a-623a77ee3867', 'fd39b6e5-c52f-422c-9fba-18cadcaa8162', '1f7affae-eb93-4947-b91f-aff3cb3047b6', 'cbe947fb-8320-46d9-8d87-41798afa144b', 'd5873d23-37b6-4e65-b244-5f177b046f72', 'b49b79d8-844c-4eaa-bd61-0ac53941a423']\n",
      "\n",
      "\n",
      "0.5437193250138834 387100\n",
      "['99b9ee1e-69a0-4284-9ab1-cca84e1fafec', '5c5298eb-1977-4295-82b6-6c738ae174b5', 'e6e146f9-cbb6-4cba-9a22-fab9b1a42e23', 'ee841eb7-6a27-4d60-806a-623a77ee3867', 'fd39b6e5-c52f-422c-9fba-18cadcaa8162', '1f7affae-eb93-4947-b91f-aff3cb3047b6', 'cbe947fb-8320-46d9-8d87-41798afa144b', 'd5873d23-37b6-4e65-b244-5f177b046f72', 'a008a691-d265-4d9c-9df2-cb72575ace22']\n",
      "\n",
      "\n",
      "0.489195201573554 390700\n",
      "['99b9ee1e-69a0-4284-9ab1-cca84e1fafec', '5c5298eb-1977-4295-82b6-6c738ae174b5', 'e6e146f9-cbb6-4cba-9a22-fab9b1a42e23', 'ee841eb7-6a27-4d60-806a-623a77ee3867', 'fd39b6e5-c52f-422c-9fba-18cadcaa8162', '1f7affae-eb93-4947-b91f-aff3cb3047b6', 'cbe947fb-8320-46d9-8d87-41798afa144b', '99352f59-c8c5-4b62-8d2f-5ad780ed5fc3', '114e9dfc-86da-4161-8639-1bf49af6914c']\n",
      "\n",
      "\n",
      "0.529239031999249 394500\n",
      "['99b9ee1e-69a0-4284-9ab1-cca84e1fafec', '5c5298eb-1977-4295-82b6-6c738ae174b5', 'e6e146f9-cbb6-4cba-9a22-fab9b1a42e23', 'ee841eb7-6a27-4d60-806a-623a77ee3867', 'fd39b6e5-c52f-422c-9fba-18cadcaa8162', '1f7affae-eb93-4947-b91f-aff3cb3047b6', 'cbe947fb-8320-46d9-8d87-41798afa144b', '99352f59-c8c5-4b62-8d2f-5ad780ed5fc3', '64e93301-579d-4134-a07e-5795fe8f81db']\n",
      "\n",
      "\n",
      "0.5010718703135957 412000\n",
      "['99b9ee1e-69a0-4284-9ab1-cca84e1fafec', '5c5298eb-1977-4295-82b6-6c738ae174b5', 'e6e146f9-cbb6-4cba-9a22-fab9b1a42e23', 'ee841eb7-6a27-4d60-806a-623a77ee3867', 'fd39b6e5-c52f-422c-9fba-18cadcaa8162', '1f7affae-eb93-4947-b91f-aff3cb3047b6', 'c2562a7e-38af-4591-a85a-c4a47b8a70ca', '058f4618-a947-41c6-b4b1-001b6660cadd', '7d5c1341-aaff-438b-9d4c-27ac9fe663fa']\n",
      "\n",
      "\n",
      "0.38978313354514116 355800\n",
      "['99b9ee1e-69a0-4284-9ab1-cca84e1fafec', '5c5298eb-1977-4295-82b6-6c738ae174b5', 'e6e146f9-cbb6-4cba-9a22-fab9b1a42e23', 'ee841eb7-6a27-4d60-806a-623a77ee3867', 'fd39b6e5-c52f-422c-9fba-18cadcaa8162', '1f7affae-eb93-4947-b91f-aff3cb3047b6', 'c2562a7e-38af-4591-a85a-c4a47b8a70ca', '058f4618-a947-41c6-b4b1-001b6660cadd', '3a9575cb-02bd-4b00-9e8b-12358344241c']\n",
      "\n",
      "\n",
      "0.4303646692897081 313700\n",
      "['99b9ee1e-69a0-4284-9ab1-cca84e1fafec', '5c5298eb-1977-4295-82b6-6c738ae174b5', 'e6e146f9-cbb6-4cba-9a22-fab9b1a42e23', 'ee841eb7-6a27-4d60-806a-623a77ee3867', 'fd39b6e5-c52f-422c-9fba-18cadcaa8162', '1f7affae-eb93-4947-b91f-aff3cb3047b6', 'c2562a7e-38af-4591-a85a-c4a47b8a70ca', '89b8d1cd-a579-4927-97a5-24e2dc951375']\n",
      "\n",
      "\n",
      "0.45001906635725786 240000\n",
      "['99b9ee1e-69a0-4284-9ab1-cca84e1fafec', '5c5298eb-1977-4295-82b6-6c738ae174b5', 'e6e146f9-cbb6-4cba-9a22-fab9b1a42e23', 'ee841eb7-6a27-4d60-806a-623a77ee3867', 'fd39b6e5-c52f-422c-9fba-18cadcaa8162', '34c6cfc7-020f-496a-8131-ed16a15ccda5', 'ce62b16d-1b97-4510-aa93-2dd070ea189c']\n",
      "\n",
      "\n",
      "0.44442250990380217 232400\n",
      "['99b9ee1e-69a0-4284-9ab1-cca84e1fafec', '5c5298eb-1977-4295-82b6-6c738ae174b5', 'e6e146f9-cbb6-4cba-9a22-fab9b1a42e23', 'ee841eb7-6a27-4d60-806a-623a77ee3867', 'fd39b6e5-c52f-422c-9fba-18cadcaa8162', '34c6cfc7-020f-496a-8131-ed16a15ccda5', '34f4a14b-2d50-4436-9686-281b12156ab9']\n",
      "\n",
      "\n",
      "0.5216967551548446 299800\n",
      "['99b9ee1e-69a0-4284-9ab1-cca84e1fafec', '5c5298eb-1977-4295-82b6-6c738ae174b5', 'e6e146f9-cbb6-4cba-9a22-fab9b1a42e23', 'ee841eb7-6a27-4d60-806a-623a77ee3867', '58a31125-ac6a-4f0c-9824-f874cb557ab0', 'f180393d-f380-471a-9a76-e9697310132d', 'c84c2eb9-98e1-4edf-9725-7965656e6811']\n",
      "\n",
      "\n",
      "0.48060451032608126 322600\n",
      "['99b9ee1e-69a0-4284-9ab1-cca84e1fafec', '5c5298eb-1977-4295-82b6-6c738ae174b5', 'e6e146f9-cbb6-4cba-9a22-fab9b1a42e23', 'ee841eb7-6a27-4d60-806a-623a77ee3867', '58a31125-ac6a-4f0c-9824-f874cb557ab0', 'f180393d-f380-471a-9a76-e9697310132d', '470509ce-61ff-4c52-9c11-8a863beedfcf']\n",
      "\n",
      "\n",
      "0.4414021764378311 232400\n",
      "['99b9ee1e-69a0-4284-9ab1-cca84e1fafec', '5c5298eb-1977-4295-82b6-6c738ae174b5', 'e6e146f9-cbb6-4cba-9a22-fab9b1a42e23', 'ee841eb7-6a27-4d60-806a-623a77ee3867', '58a31125-ac6a-4f0c-9824-f874cb557ab0', 'b26d0669-2489-4254-b08f-8d40fe167899', '1f6de0c8-04fc-4fd2-9df1-4d69d89c1853']\n",
      "\n",
      "\n",
      "0.415355334362984 254600\n",
      "['99b9ee1e-69a0-4284-9ab1-cca84e1fafec', '5c5298eb-1977-4295-82b6-6c738ae174b5', 'e6e146f9-cbb6-4cba-9a22-fab9b1a42e23', 'ee841eb7-6a27-4d60-806a-623a77ee3867', '58a31125-ac6a-4f0c-9824-f874cb557ab0', 'b26d0669-2489-4254-b08f-8d40fe167899', '21d16c3b-17c4-4bac-a1e9-cba3f055f9dc']\n",
      "\n",
      "\n",
      "0.5043140485688842 295100\n",
      "['99b9ee1e-69a0-4284-9ab1-cca84e1fafec', '5c5298eb-1977-4295-82b6-6c738ae174b5', 'e6e146f9-cbb6-4cba-9a22-fab9b1a42e23', '630b918c-67ba-4393-99ff-8a2ac3e6a344', 'b637f60a-eb97-481c-9283-fe1794b488c2', 'ed891009-f529-4a7b-ab95-c48af3485077']\n",
      "\n",
      "\n",
      "0.46322180374012084 317900\n",
      "['99b9ee1e-69a0-4284-9ab1-cca84e1fafec', '5c5298eb-1977-4295-82b6-6c738ae174b5', 'e6e146f9-cbb6-4cba-9a22-fab9b1a42e23', '630b918c-67ba-4393-99ff-8a2ac3e6a344', 'b637f60a-eb97-481c-9283-fe1794b488c2', 'd18bf725-f481-4f51-8592-999bb833b829']\n",
      "\n",
      "\n",
      "0.43000848684247317 232400\n",
      "['99b9ee1e-69a0-4284-9ab1-cca84e1fafec', '5c5298eb-1977-4295-82b6-6c738ae174b5', 'e6e146f9-cbb6-4cba-9a22-fab9b1a42e23', '630b918c-67ba-4393-99ff-8a2ac3e6a344', 'd67d91a9-7451-4008-a0c6-3b5783314dc6', 'c2ad16ab-ad2e-4333-8f7d-022b12cca8a5', '10f62bbe-ef00-4e13-be6b-557b86fa52ce']\n",
      "\n",
      "\n",
      "0.403961644767626 254600\n",
      "['99b9ee1e-69a0-4284-9ab1-cca84e1fafec', '5c5298eb-1977-4295-82b6-6c738ae174b5', 'e6e146f9-cbb6-4cba-9a22-fab9b1a42e23', '630b918c-67ba-4393-99ff-8a2ac3e6a344', 'd67d91a9-7451-4008-a0c6-3b5783314dc6', 'c2ad16ab-ad2e-4333-8f7d-022b12cca8a5', '54b1ca4e-5b8c-4bdd-a67e-11fa0a795c6d']\n",
      "\n",
      "\n",
      "0.4230142849801585 229700\n",
      "['99b9ee1e-69a0-4284-9ab1-cca84e1fafec', '5c5298eb-1977-4295-82b6-6c738ae174b5', 'e6e146f9-cbb6-4cba-9a22-fab9b1a42e23', '630b918c-67ba-4393-99ff-8a2ac3e6a344', 'd67d91a9-7451-4008-a0c6-3b5783314dc6', 'f14e9c1e-0665-48a4-a2b9-da53f96265f7']\n",
      "\n",
      "\n",
      "0.4903793306124625 267800\n",
      "['99b9ee1e-69a0-4284-9ab1-cca84e1fafec', '5c5298eb-1977-4295-82b6-6c738ae174b5', '8ad4ca83-6f84-405b-9b07-b33e002217c0', '66f722fa-e266-47dd-ac3d-df4ef1bde0d4', '6d041365-b51f-4b4c-8cb8-a32dd327bce4']\n",
      "\n",
      "\n",
      "0.5417933160852 310700\n",
      "['99b9ee1e-69a0-4284-9ab1-cca84e1fafec', '5c5298eb-1977-4295-82b6-6c738ae174b5', '8ad4ca83-6f84-405b-9b07-b33e002217c0', '66f722fa-e266-47dd-ac3d-df4ef1bde0d4', '6a0089e8-7d51-4d64-be61-9f6fc0c5358a']\n",
      "\n",
      "\n",
      "0.40610174347837397 189000\n",
      "['99b9ee1e-69a0-4284-9ab1-cca84e1fafec', '5c5298eb-1977-4295-82b6-6c738ae174b5', '8ad4ca83-6f84-405b-9b07-b33e002217c0', 'dbf5d06a-887f-482d-8bde-ea5821bcca39']\n",
      "\n",
      "\n",
      "0.37553376462421906 207800\n",
      "['99b9ee1e-69a0-4284-9ab1-cca84e1fafec', '689dac00-7a9c-4324-a35b-5744ba8b2f50', '326f0708-24da-4369-aa57-eb3c1bec3cce', '95f85787-c0da-4d02-be00-85861c4819b2']\n",
      "\n",
      "\n",
      "0.25428310286303596 175700\n",
      "['99b9ee1e-69a0-4284-9ab1-cca84e1fafec', '689dac00-7a9c-4324-a35b-5744ba8b2f50', '326f0708-24da-4369-aa57-eb3c1bec3cce', 'dd53ea95-d293-4394-8a89-2956c513f797']\n",
      "\n",
      "\n",
      "0.23276821744281806 266400\n",
      "['99b9ee1e-69a0-4284-9ab1-cca84e1fafec', '689dac00-7a9c-4324-a35b-5744ba8b2f50', '067ca72a-b397-484c-a635-98652de655b4', 'ad519d5f-8cb7-428a-a694-72252d30d6a0', '428b6ba8-f51c-4fb0-b194-d032bed4e3ae', '726bd06a-a47b-42d3-ad53-61ffe31a4452', '23adce24-29f2-483b-a788-5312273720b1']\n",
      "\n",
      "\n",
      "0.34439697586180856 301300\n",
      "['99b9ee1e-69a0-4284-9ab1-cca84e1fafec', '689dac00-7a9c-4324-a35b-5744ba8b2f50', '067ca72a-b397-484c-a635-98652de655b4', 'ad519d5f-8cb7-428a-a694-72252d30d6a0', '428b6ba8-f51c-4fb0-b194-d032bed4e3ae', '726bd06a-a47b-42d3-ad53-61ffe31a4452', '662f554d-f346-40cd-b691-2d6df2d4358e']\n",
      "\n",
      "\n",
      "0.15794423998982748 168100\n",
      "['99b9ee1e-69a0-4284-9ab1-cca84e1fafec', '689dac00-7a9c-4324-a35b-5744ba8b2f50', '067ca72a-b397-484c-a635-98652de655b4', 'ad519d5f-8cb7-428a-a694-72252d30d6a0', '428b6ba8-f51c-4fb0-b194-d032bed4e3ae', 'a9eb381f-7aa2-4d89-a481-38eded210e86']\n",
      "\n",
      "\n",
      "0.23529414017837286 143900\n",
      "['99b9ee1e-69a0-4284-9ab1-cca84e1fafec', '689dac00-7a9c-4324-a35b-5744ba8b2f50', '067ca72a-b397-484c-a635-98652de655b4', 'ad519d5f-8cb7-428a-a694-72252d30d6a0', '9b0310cc-5aab-4459-af50-7f851711dc72']\n",
      "\n",
      "\n",
      "0.2204246636917418 141200\n",
      "['99b9ee1e-69a0-4284-9ab1-cca84e1fafec', '689dac00-7a9c-4324-a35b-5744ba8b2f50', '067ca72a-b397-484c-a635-98652de655b4', 'b00da7a5-e01b-4110-9dc2-b1ecb3bac256']\n",
      "\n",
      "\n"
     ]
    }
   ],
   "source": [
    "# root ='99b9ee1e-69a0-4284-9ab1-cca84e1fafec'\n",
    "# for node in tree:\n",
    "#     if tree.out_degree(node)==0:\n",
    "#         time, path = nx.multi_source_dijkstra(tree, {root},node, weight = 'time')\n",
    "#         money, path = nx.multi_source_dijkstra(tree, {root},node, weight = 'money')\n",
    "#         print(time, money)\n",
    "#         print(path)\n",
    "#         print('\\n')"
   ]
  }
 ],
 "metadata": {
  "kernelspec": {
   "display_name": "Python 3",
   "language": "python",
   "name": "python3"
  },
  "language_info": {
   "codemirror_mode": {
    "name": "ipython",
    "version": 3
   },
   "file_extension": ".py",
   "mimetype": "text/x-python",
   "name": "python",
   "nbconvert_exporter": "python",
   "pygments_lexer": "ipython3",
   "version": "3.8.3"
  }
 },
 "nbformat": 4,
 "nbformat_minor": 4
}
