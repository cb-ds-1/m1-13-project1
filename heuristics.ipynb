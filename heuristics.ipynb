{
 "metadata": {
  "language_info": {
   "codemirror_mode": {
    "name": "ipython",
    "version": 3
   },
   "file_extension": ".py",
   "mimetype": "text/x-python",
   "name": "python",
   "nbconvert_exporter": "python",
   "pygments_lexer": "ipython3",
   "version": "3.8.3-final"
  },
  "orig_nbformat": 2,
  "kernelspec": {
   "name": "python3",
   "display_name": "Python 3"
  }
 },
 "nbformat": 4,
 "nbformat_minor": 2,
 "cells": [
  {
   "cell_type": "code",
   "execution_count": 1,
   "metadata": {},
   "outputs": [],
   "source": [
    "import pandas as pd\n",
    "import numpy as np\n",
    "from scipy.spatial import distance\n",
    "from random import choice\n",
    "\n",
    "# constants mapping to index values in the data frame\n",
    "id_index = 0\n",
    "x_cord_index = 1\n",
    "y_cord_index = 2\n",
    "money_index = 3\n",
    "time_index = 4\n",
    "ratio_index = 5\n",
    "value_index = 6\n",
    "speed = 30\n",
    "\n",
    "df = pd.read_csv('bank_data.csv')\n",
    "\n",
    "# Adding a column to represent the attractiveness of banks \n",
    "df['ratio'] = df['money'] / df['time (hr)']\n",
    "\n",
    "# numpy array of indexed ratios\n",
    "ratio = df['ratio'].to_numpy()\n",
    "\n",
    "# data frame as an np array for faster manipulations\n",
    "data = df.to_numpy()\n",
    "\n",
    "# Indexed array of banks and their time to escape point ex: times_to_escape[bank_id] -> 0.10315893\n",
    "coords = df[df.columns.difference(['id', 'money', 'time (hr)', 'ratio'])].to_numpy()\n",
    "times_to_escape = np.apply_along_axis(lambda a : distance.euclidean(a, [0,0]) / speed, 1, coords)\n",
    "\n",
    "# matrix of each bank and the distance to other banks (indexed by id along both axes)\n",
    "distances = distance.squareform(distance.pdist(coords))\n",
    "\n",
    "closests = np.argsort(distance.squareform(distance.pdist(coords)), axis=1)\n",
    "\n",
    "# matrix of each bank and the time to other banks (indexed by id along both axes)\n",
    "times_to_point = distances / speed"
   ]
  },
  {
   "cell_type": "code",
   "execution_count": 2,
   "metadata": {},
   "outputs": [],
   "source": [
    "from copy import deepcopy\n",
    "\n",
    "def create_state_dict(visited, score, game_time):\n",
    "    \"\"\"\n",
    "    takes all elements of a state\n",
    "    returns a dictionary representation of that state\n",
    "    \"\"\"\n",
    "    return {\n",
    "            'visited' : visited,\n",
    "            'score' : score,\n",
    "            'game_time' : game_time,\n",
    "        }\n",
    "\n",
    "def get_ids_from_data(banks):\n",
    "    \"\"\"\n",
    "    takes a list of visited bank information\n",
    "    returns a lit of bank ids\n",
    "    \"\"\"\n",
    "    return list(map(lambda x: x[id_index], banks))\n",
    "\n",
    "class Board(object):\n",
    "    def start(self):\n",
    "        \"\"\"\n",
    "         Returns a representation of the starting state of a simulation(simulation are ran backwards)\n",
    "         \"\"\"\n",
    "        return create_state_dict([], 0, 0)\n",
    "\n",
    "    def play_move(self, state, play):\n",
    "        \"\"\"\n",
    "        Takes the game state, and the move to be applied.\n",
    "        Returns the new game state.\n",
    "        \"\"\"\n",
    "        play = int(play)\n",
    "        # On start we are at escape point. all\n",
    "        if(len(state['visited']) == 0):\n",
    "            return create_state_dict([play], data[play][money_index], data[play][time_index] + times_to_escape[play])\n",
    "        \n",
    "        distance_to_play = distance.euclidean(data[state['visited'][-1]][1:3], data[play][1:3])\n",
    "        visited = [*state['visited'], play]\n",
    "        score = state['score'] + data[play][money_index]\n",
    "        game_time = state['game_time'] + data[play][time_index] + (distance_to_play / speed)\n",
    "\n",
    "        return create_state_dict(visited, score, game_time)\n",
    "\n",
    "    def is_play_legal(self, state, play):\n",
    "        return play in state['visited']\n",
    "        \n",
    "\n",
    "    def legal_plays(self, state):\n",
    "        \"\"\"\n",
    "        Takes a game state representing the game\n",
    "        history, and returns the full list of moves that are legal plays\n",
    "        \"\"\"\n",
    "        # if game is in starting state all moves are legal\n",
    "        if(len(state['visited']) is 0):\n",
    "            return data\n",
    "        \n",
    "        times_to_bank_copy = deepcopy(times_to_point[state['visited'][-1]])\n",
    "\n",
    "         \n",
    "        # any illegal moves becomes 0\n",
    "        times_to_bank_copy[state['game_time'] + data[:, time_index] + times_to_bank_copy > 24] = 0\n",
    "\n",
    "        for visit in state['visited']:\n",
    "            times_to_bank_copy[visit] = 0\n",
    "\n",
    "        # keep the indexes of legal moves        \n",
    "        legal_moves = np.nonzero(times_to_bank_copy)[0]\n",
    "\n",
    "        non_zero_legal_moves = np.take(data, legal_moves, axis=0)\n",
    "\n",
    "        \n",
    "        if(len(non_zero_legal_moves) > 0):\n",
    "            return non_zero_legal_moves\n",
    "        return []\n",
    "\n",
    "    def winner(self, state):\n",
    "        \"\"\"\n",
    "        takes the state_history\n",
    "        returns a boolean indicating if the game is over\n",
    "        \"\"\"\n",
    "    \n",
    "        return len(self.legal_plays(state)) is 0"
   ]
  },
  {
   "cell_type": "code",
   "execution_count": 9,
   "metadata": {
    "tags": []
   },
   "outputs": [
    {
     "output_type": "stream",
     "name": "stdout",
     "text": [
      "{'visited': [5135, 209, 951, 3613, 9546, 433, 9170, 5610, 9195, 3798, 4987, 6987, 7544, 4725, 2769, 5126, 8469, 8206, 9401, 8966, 2656, 3297, 9049, 7769, 5381, 9275, 9469, 4492, 9736, 5155, 4465, 4627, 2590, 1723, 2859, 4723, 3637, 9881, 1733, 7595, 6375, 8562, 3914, 6254, 1455, 557, 5971, 3605, 5719, 613, 6104, 1997, 9653, 4287, 6528, 8550, 1757, 8355, 8436, 7064, 3026, 4696, 4789, 7689, 8849, 9908, 1193, 1599, 7258, 7074, 6740, 2729, 7701, 7764, 7649, 517, 8287, 5622, 3516, 5562, 4906, 7087, 9120, 4345, 6478, 2458, 5627, 58, 1372, 7801, 2, 4610, 5631, 5377, 5399, 1879, 7622, 6566, 8887, 2444, 1926, 5200, 5892, 7809, 4794, 2190, 6535, 507, 9228, 524, 3089, 9583, 3005, 865, 3466, 7583, 3585, 2442, 6339, 232, 7665, 8231, 8846, 5166, 9640, 6022, 5298, 6764, 7772, 2472, 70, 790, 1684, 4494, 1081, 3007, 9880, 5563, 5873, 1508, 7744, 9779, 2243, 3926, 487, 5933, 7560, 3803, 8022, 8579, 1914, 6468, 8703, 7343, 3193, 8288, 2037, 6712, 5295, 4983, 1058, 4762, 8286, 2331, 4499, 2521, 8829, 4757, 8690, 6216, 3186, 1424, 4234, 4362, 2643, 5474, 8784, 6520, 8340, 1053, 8525, 3239, 6591, 3484, 2028, 781, 6759, 7531, 5356, 4293, 1447, 6097, 8908, 7265, 4056, 4036, 6653, 9290, 8169, 6281, 2194, 9928, 664, 7329, 9460, 6317, 757, 4291, 1860, 3025, 3919, 2827, 8407, 8503, 5300, 5121, 9529, 4650, 4605, 8419, 7877, 1961, 3783, 274, 4153, 3656, 7587, 1575, 3050, 8843, 3136, 4175, 3917, 8405, 3502, 4084, 7462, 1833, 8223, 8466, 1250, 2633, 9196, 6225, 6180, 5921, 3320, 8244, 1844, 839, 3971, 7494, 754, 1966, 359, 2639, 3683, 5725, 5944, 4364, 7907, 4572, 670], 'score': 13356700.0, 'game_time': 23.96264635457219}\nTime Remaining: 0.037353645427812984\n"
     ]
    },
    {
     "output_type": "execute_result",
     "data": {
      "text/plain": [
       "13356700.0"
      ]
     },
     "metadata": {},
     "execution_count": 9
    }
   ],
   "source": [
    "from check_solution import check_solution\n",
    "\n",
    "original_df = pd.read_csv('bank_data.csv')\n",
    "\n",
    "class Bot():\n",
    "    def __init__(self, state={'visited': [], 'score': 0, 'game_time': 0}):\n",
    "        self.board = Board()\n",
    "        self.state = state\n",
    "        self.game_over = self.board.winner(self.state)\n",
    "\n",
    "    def pick_best_closest_move(self):\n",
    "        legal_moves = self.board.legal_plays(self.state)\n",
    "        if(len(legal_moves) < 10):\n",
    "            return legal_moves[np.argsort(legal_moves[:, ratio_index])][-1]\n",
    "        # 10000 is the 0,0 point\n",
    "        closests_banks = closests[10000 if len(self.state['visited']) is 0 else self.state['visited'][-1]][0:400]\n",
    "        closest_legal_banks = legal_moves[np.in1d(legal_moves[:,0],closests_banks)]\n",
    "        sorted_array = closest_legal_banks[np.argsort(closest_legal_banks[:, ratio_index])]\n",
    "        \n",
    "        if(np.isnan(sorted_array[-1][ratio_index])):\n",
    "            return sorted_array[-2]\n",
    "        else:\n",
    "            return sorted_array[-1]\n",
    "\n",
    "            # for bank in closest_legal_banks:\n",
    "            #     state_copy = self.board.play_move(self.state, bank[id_index])\n",
    "            #     second_legal_moves = self.board.legal_plays(state_copy)\n",
    "            #     second_closests_banks = closests[int(bank[id_index])][0:99]\n",
    "            #     second_closest_legal_banks = legal_moves[np.in1d(legal_moves[:,0],closests_banks)]\n",
    "\n",
    "            #     sorted_array = second_closest_legal_banks[np.argsort(second_closest_legal_banks[:, ratio_index])]\n",
    "                \n",
    "            # print(sorted_array)\n",
    "        \n",
    "\n",
    "\n",
    "board = Board()    \n",
    "bot = Bot()\n",
    "while(bot.game_over is False):\n",
    "    bot.state = board.play_move(bot.state, bot.pick_best_closest_move()[id_index])\n",
    "    bot.game_over = board.winner(bot.state)\n",
    "\n",
    "print(bot.state)\n",
    "check_solution(travel_list=np.flip(bot.state['visited']), df=original_df)"
   ]
  },
  {
   "cell_type": "code",
   "execution_count": 53,
   "metadata": {},
   "outputs": [
    {
     "output_type": "execute_result",
     "data": {
      "text/plain": [
       "False"
      ]
     },
     "metadata": {},
     "execution_count": 53
    }
   ],
   "source": []
  },
  {
   "cell_type": "code",
   "execution_count": null,
   "metadata": {},
   "outputs": [],
   "source": []
  }
 ]
}