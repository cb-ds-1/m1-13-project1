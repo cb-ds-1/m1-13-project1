{
 "cells": [
  {
   "cell_type": "code",
   "execution_count": 3,
   "metadata": {},
   "outputs": [],
   "source": [
    "import numpy as np\n",
    "import pandas as pd\n",
    "\n",
    "df = pd.read_csv('bank_data.csv')\n",
    "\n",
    "df_copy = df.copy()"
   ]
  },
  {
   "cell_type": "code",
   "execution_count": 5,
   "metadata": {},
   "outputs": [
    {
     "output_type": "execute_result",
     "data": {
      "text/plain": [
       "['list of banks robbed:[6852, 9904, 5634, 2463, 1081, 6266, 5327, 2162, 8949, 6934, 5434, 1587, 173, 4437, 6876, 1976, 2185, 9130, 6169, 2226, 488, 444, 5873, 9880, 5563, 2015, 6295, 7907, 5440, 5944, 4494, 2472, 7772, 8859, 3665, 5572, 5836, 2626, 9640, 5166, 8846, 8231, 7665, 6339, 3585, 7583, 3466, 865, 3005, 1684, 4807, 5298, 524, 9228, 6535, 2190, 7809, 5892, 5200, 2590, 9469, 4492, 4627, 5381, 7769, 4557, 2701, 5518, 9883, 3526, 8909, 7625, 2346, 1397, 6156, 9378, 2928, 9241, 5296, 5126, 9049, 8966, 8206, 8469, 3297, 5155, 9736, 9275, 670, 5377, 5631, 2, 4610, 2458, 7544, 7801, 58, 1372, 9804, 8477, 4422, 3340, 3971, 839, 1844, 1860, 8503, 8407, 7531, 5356, 6104, 1447, 7265, 757, 6317, 9290, 8169, 6281, 7087, 4906, 5562, 3516, 5622, 517, 664, 3917, 4175, 3136, 1193, 9908, 1599, 7764, 7701, 2729, 6740, 7074, 7258, 3026, 4789, 4696, 7689, 4605, 1757, 8355, 8436, 7064, 6097, 8287, 3798, 9195, 5610, 433, 9546, 3613, 951, 9881, 7595, 359, 1966, 7494, 2639, 3605, 8125, 7579, 2425, 6591, 3216, 5247, 6520, 5474, 3484, 4234, 2028, 781, 6759, 8375, 9779, 2243, 8525, 3239, 2643, 4762, 299, 4983, 4742, 8288, 6712, 5295, 6468, 3193, 2037, 8022, 7560, 5933, 487, 8703, 2521, 2331, 4499, 6216, 8690, 6528, 4287, 9653, 613, 5719, 5971, 557, 1455, 8562, 6254, 5135]',\n",
       " 'jackpot: $14066600',\n",
       " 'time left: 0.010466193999113221 hours']"
      ]
     },
     "metadata": {},
     "execution_count": 5
    }
   ],
   "source": [
    "def highest_ratio(df):\n",
    "    \"\"\"\n",
    "    Creates new column of money/time per bank.\n",
    "    \"\"\"\n",
    "    for row in df:\n",
    "        money_time = df[\"money\"]/df[\"time (hr)\"]\n",
    "        df['money/time'] = money_time\n",
    "    return df\n",
    "\n",
    "def dis(x1, y1, x2, y2):\n",
    "    \"\"\" \n",
    "    Provides distance between 2 points.\n",
    "    \"\"\"\n",
    "    return np.sqrt((x2-x1)**2 + (y2-y1)**2)\n",
    "\n",
    "def distance_between(p1, df):\n",
    "    \"\"\"\n",
    "    Creates a new column and calculates the distance \n",
    "    between a point and every single point.\n",
    "    \"\"\"\n",
    "    df['distance'] = dis(df['x_coordinate'], df['y_coordinate'], p1[0], p1[1])/30\n",
    "    return df\n",
    "\n",
    "\n",
    "def big_function(p1, df, hours_left=24, count_money = 0, banks_robbed=[]):\n",
    "    highest_ratio(df)\n",
    "\n",
    "    #df creates table that has added distance column (changes for every p1)\n",
    "    df = distance_between(p1, df)\n",
    "\n",
    "    #drops all banks that have less than \"x\"\n",
    "    df = df.drop(df[df.money < 30000].index)\n",
    "\n",
    "    #df table is sorted by closest distance and only shows closest 90 banks\n",
    "    df_top = df.sort_values(by='distance').head(90) \n",
    "\n",
    "    #grabs the index of the largest money/time in closest 90\n",
    "    closest_idx = df_top['money/time'].idxmax()\n",
    "\n",
    "    if hours_left <= 0:\n",
    "        return [f'list of banks robbed:{banks_robbed[::-1]}', \n",
    "                    f'jackpot: {count_money}$', \n",
    "                    f'time left: {hours_left} hours'\n",
    "                   ]\n",
    "\n",
    "    else:\n",
    "        if df_top['distance'][closest_idx] + df_top['time (hr)'][closest_idx] >= hours_left:\n",
    "            return [f'list of banks robbed:{banks_robbed[::-1]}', \n",
    "                    f'jackpot: ${count_money}', \n",
    "                    f'time left: {hours_left} hours'\n",
    "                   ]\n",
    "\n",
    "        count_money += df_top['money'][closest_idx]\n",
    "        hours_left -= (df_top['distance'][closest_idx] + df_top['time (hr)'][closest_idx])\n",
    "        banks_robbed.append(closest_idx)\n",
    "\n",
    "        x_new = df_top['x_coordinate'][closest_idx]\n",
    "        y_new = df_top['y_coordinate'][closest_idx]\n",
    "\n",
    "        df = df.drop(closest_idx)\n",
    "    return big_function((x_new, y_new), df, hours_left, count_money, banks_robbed)\n",
    "\n",
    "big_function((0,0), df_copy)\n"
   ]
  },
  {
   "cell_type": "code",
   "execution_count": null,
   "metadata": {},
   "outputs": [],
   "source": []
  }
 ],
 "metadata": {
  "kernelspec": {
   "display_name": "Python 3",
   "language": "python",
   "name": "python3"
  },
  "language_info": {
   "codemirror_mode": {
    "name": "ipython",
    "version": 3
   },
   "file_extension": ".py",
   "mimetype": "text/x-python",
   "name": "python",
   "nbconvert_exporter": "python",
   "pygments_lexer": "ipython3",
   "version": "3.8.3-final"
  }
 },
 "nbformat": 4,
 "nbformat_minor": 4
}