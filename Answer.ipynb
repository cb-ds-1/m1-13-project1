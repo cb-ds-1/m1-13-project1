{
 "cells": [
  {
   "cell_type": "code",
   "execution_count": 14,
   "metadata": {},
   "outputs": [],
   "source": [
    "import pandas as pd\n",
    "import numpy as np\n",
    "import matplotlib.pyplot as plt\n",
    "from sklearn.metrics.pairwise import euclidean_distances\n",
    "import check_solution"
   ]
  },
  {
   "cell_type": "code",
   "execution_count": 17,
   "metadata": {},
   "outputs": [],
   "source": [
    "def robber_algorithm_heuristic(df):\n",
    "    list = []\n",
    "    SPEED = 30\n",
    "    time_left = 24\n",
    "    cur_pos = [[0,0]]\n",
    "    df = df.rename(columns={\"x_coordinate\": \"x\", \n",
    "                            \"y_coordinate\": \"y\", \n",
    "                            \"time (hr)\": \"time\"})                        \n",
    "    coord = df[[\"x\", \"y\"]].to_numpy()  \n",
    "    while time_left > 0 and df.money.sum() > 0:\n",
    "        df[\"ed\"] = euclidean_distances(current_pos, coord)[0]\n",
    "        idx = df[df.money /df.time > 385000].ed.idxmin()\n",
    "        if time_left >= (df.ed[idx] / SPEED + df.time[idx]):\n",
    "            df.money[idx] = 0\n",
    "            time_left -= (df.ed[idx] / SPEED + df.time[idx])\n",
    "            bank_list.append(idx)\n",
    "            current_pos = [[df.x[idx],df.y[idx]]]\n",
    "        else:\n",
    "            break  \n",
    "    bank_list.reverse()\n",
    "    return bank_list"
   ]
  },
  {
   "cell_type": "code",
   "execution_count": 18,
   "metadata": {},
   "outputs": [
    {
     "name": "stdout",
     "output_type": "stream",
     "text": [
      "Time Remaining: 0.11070497459296917\n"
     ]
    },
    {
     "data": {
      "text/plain": [
       "15216800.0"
      ]
     },
     "execution_count": 18,
     "metadata": {},
     "output_type": "execute_result"
    }
   ],
   "source": [
    "df = pd.read_csv('bank_data.csv')\n",
    "check_solution.check_solution(heuristic_list, df)"
   ]
  },
  {
   "cell_type": "code",
   "execution_count": null,
   "metadata": {},
   "outputs": [],
   "source": []
  }
 ],
 "metadata": {
  "kernelspec": {
   "display_name": "Python 3",
   "language": "python",
   "name": "python3"
  },
  "language_info": {
   "codemirror_mode": {
    "name": "ipython",
    "version": 3
   },
   "file_extension": ".py",
   "mimetype": "text/x-python",
   "name": "python",
   "nbconvert_exporter": "python",
   "pygments_lexer": "ipython3",
   "version": "3.8.3"
  }
 },
 "nbformat": 4,
 "nbformat_minor": 4
}
