{
 "metadata": {
  "language_info": {
   "codemirror_mode": {
    "name": "ipython",
    "version": 3
   },
   "file_extension": ".py",
   "mimetype": "text/x-python",
   "name": "python",
   "nbconvert_exporter": "python",
   "pygments_lexer": "ipython3",
   "version": "3.8.3-final"
  },
  "orig_nbformat": 2,
  "kernelspec": {
   "name": "python3",
   "display_name": "Python 3"
  }
 },
 "nbformat": 4,
 "nbformat_minor": 2,
 "cells": [
  {
   "source": [
    "\n"
   ],
   "cell_type": "markdown",
   "metadata": {}
  },
  {
   "cell_type": "code",
   "execution_count": 1,
   "metadata": {},
   "outputs": [],
   "source": [
    "import pandas as pd\n",
    "import numpy as np\n",
    "from scipy.spatial import distance\n",
    "from random import choice\n",
    "\n",
    "df = pd.read_csv('bank_data.csv')\n",
    "df['ratio'] = df['money'] / df['time (hr)']\n",
    "\n",
    "data = df.to_numpy()\n",
    "data_by_ratio = data[data[:,2].argsort()]\n",
    "coords = df[df.columns.difference(['id', 'money', 'time (hr)'])].to_numpy()\n",
    "closests = np.argsort(distance.squareform(distance.pdist(coords)), axis=1)"
   ]
  },
  {
   "cell_type": "code",
   "execution_count": null,
   "metadata": {},
   "outputs": [],
   "source": [
    "# make matrix state/reward\n",
    "# make Q matrix\n",
    "# make gamma learning parameter\n",
    "# make random initial position"
   ]
  },
  {
   "source": [
    "### 2. generating random games \n",
    "\n",
    "games can either be played from scratch or simulated for a specific state"
   ],
   "cell_type": "markdown",
   "metadata": {}
  },
  {
   "cell_type": "code",
   "execution_count": 2,
   "metadata": {},
   "outputs": [],
   "source": [
    "import numpy as np\n",
    "from random import choice\n",
    "from copy import deepcopy\n",
    "from scipy.spatial import distance\n",
    "\n",
    "id_index = 0\n",
    "speed = 30\n",
    "x_cord_index = 1\n",
    "y_cord_index = 2\n",
    "money_index = 3\n",
    "time_index = 4\n",
    "ratio_index = 5\n",
    "simulations_amout = 100\n",
    "simulation_depth = 100\n",
    "\n",
    "actions = ['random', money_index, ratio_index]\n",
    "\n",
    "class Game:\n",
    "    def __init__(self, restore=False, state={}):\n",
    "        self.data = data\n",
    "\n",
    "        if(restore):\n",
    "            local_state = deepcopy(state)\n",
    "            self.visited = local_state['visited']\n",
    "            self.score = local_state['score']\n",
    "            self.time_left = local_state['time_left']\n",
    "            self.time_to_exit = local_state['time_to_exit']\n",
    "        else:\n",
    "            # todo: rework to chose randomly from interesting regions\n",
    "            # self.visited = [choice(data_by_ratio[0:200])]\n",
    "            self.visited = [choice(self.data)] \n",
    "            self.score = self.visited[0][money_index]\n",
    "            self.actions = ['random']\n",
    "            self.time_left = 24 - self.visited[0][time_index]\n",
    "            self.time_to_exit = distance.euclidean(self.visited[-1][x_cord_index:y_cord_index], [0,0]) / speed\n",
    "        self.visited_dict = {}\n",
    "\n",
    "        for visit in self.visited:\n",
    "            self.visited_dict[visit[id_index]] = True\n",
    "\n",
    "        self.game_ended = False\n",
    "\n",
    "    def get_state(self):\n",
    "        return {\n",
    "            'visited': self.visited,\n",
    "            'score': self.score,\n",
    "            'time_left': self.time_left,\n",
    "            'time_to_exit': self.time_to_exit\n",
    "        }\n",
    "\n",
    "    def get_visited_ids(self):\n",
    "        return list(map(lambda x: x[id_index], self.visited))\n",
    "\n",
    "    def play_move(self, move):\n",
    "        # don't let move when game is over\n",
    "        if (self.time_to_exit > self.time_left):\n",
    "            self.game_ended = True\n",
    "            return\n",
    "\n",
    "        next_move = move\n",
    "        distance_to_next = distance.euclidean(self.visited[-1][x_cord_index:y_cord_index], next_move[x_cord_index:y_cord_index])\n",
    "        self.visited.append(next_move)\n",
    "        self.visited_dict[next_move[id_index]] = True\n",
    "        # update the score\n",
    "        self.score = self.score + next_move[money_index]\n",
    "        self.time_left = self.time_left - next_move[time_index] - (distance_to_next / speed)\n",
    "        self.time_to_exit = distance.euclidean(self.visited[-1][x_cord_index:y_cord_index], [0,0]) / speed\n",
    "        "
   ]
  },
  {
   "cell_type": "code",
   "execution_count": 3,
   "metadata": {
    "tags": []
   },
   "outputs": [],
   "source": [
    "class Simulated_Game(Game):\n",
    "    def play_random_game(self):\n",
    "            while(self.time_to_exit < self.time_left):\n",
    "                self.play_move(self.choose_move_type())\n",
    "            self.visited = self.visited[:-1]\n",
    "            # end game\n",
    "            self.game_ended = True\n",
    "    \n",
    "    def choose_move_type(self):\n",
    "        move_type = choice(actions)\n",
    "        self.actions.append(move_type)\n",
    "        distances_from_next = closests[int(self.visited[-1][id_index])]\n",
    "        closest_values = [self.data[i] for i in distances_from_next[:simulation_depth] if self.data[i][id_index] not in self.visited_dict]\n",
    "\n",
    "        if (move_type == 'random'):\n",
    "            return choice(closest_values)\n",
    "        # return the highest value based on the current move type selected\n",
    "        return closest_values[np.argmax(closest_values, axis=0)[move_type]]\n",
    "\n",
    "# helpers\n",
    "def get_current_policy(ratio_score, random_score):\n",
    "    maximum = max(ratio_score, random_score)\n",
    "\n",
    "    if(maximum == ratio_score):\n",
    "        return ratio_index\n",
    "\n",
    "    if(maximum == random_score):\n",
    "        return 'random'\n"
   ]
  },
  {
   "cell_type": "code",
   "execution_count": 7,
   "metadata": {},
   "outputs": [
    {
     "output_type": "stream",
     "name": "stdout",
     "text": [
      "[1058.0, 5298.0, 7265.0, 8125.0, 3605.0, 5296.0, 7087.0, 6317.0, 6535.0, 3516.0, 1447.0, 279.0, 6281.0, 6478.0, 1684.0, 2639.0, 1966.0, 5399.0, 4983.0, 5155.0, 1372.0, 557.0, 9779.0, 488.0, 2028.0, 8841.0, 4359.0, 4723.0, 3216.0, 3239.0, 3136.0, 9640.0, 4362.0, 754.0, 2194.0, 8503.0, 317.0, 3007.0, 8829.0, 6216.0, 7649.0, 8355.0, 3193.0, 4789.0, 4345.0, 5719.0, 5563.0, 7801.0, 5627.0, 670.0, 4234.0, 8949.0, 8288.0, 6156.0, 3683.0, 359.0, 1860.0, 757.0, 3340.0, 839.0, 9120.0, 7494.0, 5971.0, 1599.0, 9170.0, 9469.0, 9049.0, 2442.0, 613.0, 8525.0, 3089.0, 7665.0, 5622.0, 3026.0, 2729.0, 58.0, 7258.0, 9275.0, 4906.0, 9378.0, 3297.0, 3005.0, 6740.0, 6468.0, 2656.0, 1914.0, 4287.0, 2331.0, 6104.0, 7689.0, 7583.0, 6712.0, 1997.0, 1733.0, 2741.0, 4696.0, 8287.0, 7064.0, 433.0, 8966.0, 1757.0, 8469.0, 6987.0, 9881.0, 4725.0, 8579.0, 9241.0, 5933.0, 5610.0, 9401.0, 2346.0, 9653.0, 209.0, 8908.0, 8286.0, 781.0, 2472.0, 8703.0, 2.0, 4627.0, 6375.0, 2243.0, 507.0, 5562.0, 4492.0, 2590.0, 7625.0, 1676.0, 1879.0, 8419.0, 2463.0, 9904.0, 7018.0, 4601.0, 9081.0, 3237.0] $8,199,100.00\n"
     ]
    }
   ],
   "source": [
    "\n",
    "\n",
    "def simple_simulator():\n",
    "    game = Simulated_Game()\n",
    "    for i in range(1000):\n",
    "            temp_game = Simulated_Game()\n",
    "            temp_game.play_random_game()\n",
    "            if(temp_game.score > game.score):\n",
    "                game = temp_game\n",
    "    return game\n",
    "\n",
    "\n",
    "g = simple_simulator()\n",
    "print(g.get_visited_ids(), \"${:,.2f}\".format(g.score))\n"
   ]
  },
  {
   "cell_type": "code",
   "execution_count": null,
   "metadata": {},
   "outputs": [],
   "source": []
  }
 ]
}