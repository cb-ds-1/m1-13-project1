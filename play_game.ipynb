{
 "metadata": {
  "language_info": {
   "codemirror_mode": {
    "name": "ipython",
    "version": 3
   },
   "file_extension": ".py",
   "mimetype": "text/x-python",
   "name": "python",
   "nbconvert_exporter": "python",
   "pygments_lexer": "ipython3",
   "version": "3.8.3-final"
  },
  "orig_nbformat": 2,
  "kernelspec": {
   "name": "python3",
   "display_name": "Python 3"
  }
 },
 "nbformat": 4,
 "nbformat_minor": 2,
 "cells": [
  {
   "source": [
    "## Reinforcement learning approach to bank robber game\n",
    "\n",
    "This is an attempt at making a Reinforcement Learning algorithm for playing the bank robber game.\n",
    "\n",
    "\n",
    "\n",
    "### 1. Importing the data and getting the nearest neighbors of each point\n",
    "\n",
    "this is an expansive step but it simplifies random game generations\n"
   ],
   "cell_type": "markdown",
   "metadata": {}
  },
  {
   "cell_type": "code",
   "execution_count": 116,
   "metadata": {},
   "outputs": [],
   "source": [
    "import pandas as pd\n",
    "import numpy as np\n",
    "from scipy.spatial import distance\n",
    "from random import choice\n",
    "\n",
    "df = pd.read_csv('bank_data.csv')\n",
    "data = df.to_numpy()\n",
    "coords = df[df.columns.difference(['id', 'money', 'time (hr)'])].to_numpy()\n",
    "closests = np.argsort(distance.squareform(distance.pdist(coords)), axis=1)"
   ]
  },
  {
   "source": [
    "### 2. generating random games \n",
    "\n",
    "games can either be played from scratch or simulated for a specific state"
   ],
   "cell_type": "markdown",
   "metadata": {}
  },
  {
   "cell_type": "code",
   "execution_count": 142,
   "metadata": {},
   "outputs": [
    {
     "output_type": "execute_result",
     "data": {
      "text/plain": [
       "423300.0"
      ]
     },
     "metadata": {},
     "execution_count": 142
    }
   ],
   "source": [
    "import numpy as np\n",
    "from random import choice\n",
    "from scipy.spatial import distance\n",
    "\n",
    "id_index = 0\n",
    "speed = 30\n",
    "x_cord_index = 1\n",
    "y_cord_index = 2\n",
    "money_index = 3\n",
    "time_index = 4\n",
    "simulation_depth = 5\n",
    "\n",
    "class Game:\n",
    "    def __init__(self):\n",
    "        self.data = data\n",
    "\n",
    "        self.visited = [choice(self.data)] \n",
    "        self.score = self.visited[0][money_index]\n",
    "        self.time_left = 24 - self.visited[0][time_index]\n",
    "        self.time_to_exit = distance.euclidean(self.visited[-1][x_cord_index:y_cord_index], [0,0]) / speed\n",
    "\n",
    "    def play_game(self):\n",
    "            while(self.time_to_exit < self.time_left):\n",
    "                self.play_move()\n",
    "            self.visited = self.visited[:-1]\n",
    "\n",
    "    def play_move(self):\n",
    "        distances_from_next = closests[int(self.visited[-1][id_index])]\n",
    "        closest_values = [self.data[i] for i in distances_from_next[:simulation_depth]]\n",
    "\n",
    "        # pick randomly a next move\n",
    "        next_move = choice(closest_values)\n",
    "\n",
    "        distance_to_next = distance.euclidean(self.visited[-1][x_cord_index:y_cord_index], next_move[x_cord_index:y_cord_index])\n",
    "        self.visited.append(next_move)\n",
    "        # update the score\n",
    "        self.score = self.score + next_move[money_index]\n",
    "        self.time_left = self.time_left - next_move[time_index] - (distance_to_next / speed)\n",
    "        self.time_to_exit = distance.euclidean(self.visited[-1][x_cord_index:y_cord_index], [0,0]) / speed\n",
    "\n",
    "        \n",
    "        \n",
    "\n",
    "    \n",
    "\n",
    "new_game = Game()\n",
    "new_game.play_game()\n",
    "new_game.score\n",
    "\n"
   ]
  },
  {
   "cell_type": "code",
   "execution_count": null,
   "metadata": {},
   "outputs": [],
   "source": []
  }
 ]
}