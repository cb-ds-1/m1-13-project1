{
 "metadata": {
  "language_info": {
   "codemirror_mode": {
    "name": "ipython",
    "version": 3
   },
   "file_extension": ".py",
   "mimetype": "text/x-python",
   "name": "python",
   "nbconvert_exporter": "python",
   "pygments_lexer": "ipython3",
   "version": "3.8.3-final"
  },
  "orig_nbformat": 2,
  "kernelspec": {
   "name": "python3",
   "display_name": "Python 3"
  }
 },
 "nbformat": 4,
 "nbformat_minor": 2,
 "cells": [
  {
   "source": [
    "\n"
   ],
   "cell_type": "markdown",
   "metadata": {}
  },
  {
   "cell_type": "code",
   "execution_count": 48,
   "metadata": {},
   "outputs": [],
   "source": [
    "import pandas as pd\n",
    "import numpy as np\n",
    "from scipy.spatial import distance\n",
    "from random import choice\n",
    "\n",
    "df = pd.read_csv('bank_data.csv')\n",
    "df['ratio'] = df['money'] / df['time (hr)']\n",
    "\n",
    "data = df.to_numpy()\n",
    "data_by_ratio = data[data[:,2].argsort()]\n",
    "coords = df[df.columns.difference(['id', 'money', 'time (hr)'])].to_numpy()\n",
    "closests = np.argsort(distance.squareform(distance.pdist(coords)), axis=1)"
   ]
  },
  {
   "cell_type": "code",
   "execution_count": null,
   "metadata": {},
   "outputs": [],
   "source": [
    "# make matrix state/reward\n",
    "# make Q matrix\n",
    "# make gamma learning parameter\n",
    "# make random initial position"
   ]
  },
  {
   "source": [
    "### 2. generating random games \n",
    "\n",
    "games can either be played from scratch or simulated for a specific state"
   ],
   "cell_type": "markdown",
   "metadata": {}
  },
  {
   "cell_type": "code",
   "execution_count": 82,
   "metadata": {},
   "outputs": [],
   "source": [
    "import numpy as np\n",
    "from random import choice\n",
    "from copy import deepcopy\n",
    "from scipy.spatial import distance\n",
    "\n",
    "id_index = 0\n",
    "speed = 30\n",
    "x_cord_index = 1\n",
    "y_cord_index = 2\n",
    "money_index = 3\n",
    "time_index = 4\n",
    "ratio_index = 5\n",
    "simulations_amout = 100\n",
    "simulation_depth = 100\n",
    "\n",
    "actions = ['random', money_index, ratio_index]\n",
    "\n",
    "class Game:\n",
    "    def __init__(self, restore=False, state={}):\n",
    "        self.data = data\n",
    "\n",
    "        if(restore):\n",
    "            local_state = deepcopy(state)\n",
    "            self.visited = local_state['visited']\n",
    "            self.score = local_state['score']\n",
    "            self.time_left = local_state['time_left']\n",
    "            self.time_to_exit = local_state['time_to_exit']\n",
    "        else:\n",
    "            # todo: rework to chose randomly from interesting regions\n",
    "            # self.visited = [choice(data_by_ratio[0:200])]\n",
    "            self.visited = [choice(self.data)] \n",
    "            self.score = self.visited[0][money_index]\n",
    "            self.actions = ['random']\n",
    "            self.time_left = 24 - self.visited[0][time_index]\n",
    "            self.time_to_exit = distance.euclidean(self.visited[-1][x_cord_index:y_cord_index], [0,0]) / speed\n",
    "        self.visited_dict = {}\n",
    "\n",
    "        for visit in self.visited:\n",
    "            self.visited_dict[visit[id_index]] = True\n",
    "\n",
    "        self.game_ended = False\n",
    "\n",
    "    def get_state(self):\n",
    "        return {\n",
    "            'visited': self.visited,\n",
    "            'score': self.score,\n",
    "            'time_left': self.time_left,\n",
    "            'time_to_exit': self.time_to_exit\n",
    "        }\n",
    "\n",
    "    def get_visited_ids(self):\n",
    "        return list(map(lambda x: x[id_index], self.visited))\n",
    "\n",
    "    def play_move(self, move):\n",
    "        # don't let move when game is over\n",
    "        if (self.time_to_exit > self.time_left):\n",
    "            self.game_ended = True\n",
    "            return\n",
    "\n",
    "        next_move = move\n",
    "        distance_to_next = distance.euclidean(self.visited[-1][x_cord_index:y_cord_index], next_move[x_cord_index:y_cord_index])\n",
    "        self.visited.append(next_move)\n",
    "        self.visited_dict[next_move[id_index]] = True\n",
    "        # update the score\n",
    "        self.score = self.score + next_move[money_index]\n",
    "        self.time_left = self.time_left - next_move[time_index] - (distance_to_next / speed)\n",
    "        self.time_to_exit = distance.euclidean(self.visited[-1][x_cord_index:y_cord_index], [0,0]) / speed\n",
    "        "
   ]
  },
  {
   "cell_type": "code",
   "execution_count": 83,
   "metadata": {
    "tags": []
   },
   "outputs": [],
   "source": [
    "class Simulated_Game(Game):\n",
    "    def play_random_game(self):\n",
    "            while(self.time_to_exit < self.time_left):\n",
    "                self.play_move(self.choose_move_type())\n",
    "            self.visited = self.visited[:-1]\n",
    "            # end game\n",
    "            self.game_ended = True\n",
    "    \n",
    "    def choose_move_type(self):\n",
    "        move_type = choice(actions)\n",
    "        self.actions.append(move_type)\n",
    "        distances_from_next = closests[int(self.visited[-1][id_index])]\n",
    "        closest_values = [self.data[i] for i in distances_from_next[:simulation_depth] if self.data[i][id_index] not in self.visited_dict]\n",
    "\n",
    "        if (move_type == 'random'):\n",
    "            return choice(closest_values)\n",
    "        # return the highest value based on the current move type selected\n",
    "        return closest_values[np.argmax(closest_values, axis=0)[move_type]]\n",
    "\n",
    "# helpers\n",
    "def get_current_policy(ratio_score, random_score):\n",
    "    maximum = max(ratio_score, random_score)\n",
    "\n",
    "    if(maximum == ratio_score):\n",
    "        return ratio_index\n",
    "\n",
    "    if(maximum == random_score):\n",
    "        return 'random'\n"
   ]
  },
  {
   "cell_type": "code",
   "execution_count": 85,
   "metadata": {},
   "outputs": [
    {
     "output_type": "stream",
     "name": "stdout",
     "text": [
      "125 $8,191,300.00\n"
     ]
    }
   ],
   "source": [
    "\n",
    "\n",
    "def simple_simulator():\n",
    "    game = Simulated_Game()\n",
    "    for i in range(1000):\n",
    "            temp_game = Simulated_Game()\n",
    "            temp_game.play_random_game()\n",
    "            if(temp_game.score > game.score):\n",
    "                game = temp_game\n",
    "    return game\n",
    "\n",
    "\n",
    "g = simple_simulator()\n",
    "print(len(g.get_visited_ids()), \"${:,.2f}\".format(g.score))\n"
   ]
  },
  {
   "cell_type": "code",
   "execution_count": null,
   "metadata": {},
   "outputs": [],
   "source": []
  }
 ]
}